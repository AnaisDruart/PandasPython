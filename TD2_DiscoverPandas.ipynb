{
 "cells": [
  {
   "cell_type": "code",
   "execution_count": 1,
   "metadata": {},
   "outputs": [
    {
     "name": "stderr",
     "output_type": "stream",
     "text": [
      "  % Total    % Received % Xferd  Average Speed   Time    Time     Time  Current\n",
      "                                 Dload  Upload   Total   Spent    Left  Speed\n",
      "\n",
      "  0     0    0     0    0     0      0      0 --:--:-- --:--:-- --:--:--     0\n",
      "100 21979  100 21979    0     0  21979      0  0:00:01 --:--:--  0:00:01  171k\n"
     ]
    }
   ],
   "source": [
    "!curl https://raw.githubusercontent.com/Luc-Bertin/TDs_ESILV/master/td3_discover_pandas/notes_eleves.csv -o \"notes.csv\"\n"
   ]
  },
  {
   "cell_type": "code",
   "execution_count": 2,
   "metadata": {},
   "outputs": [
    {
     "ename": "NameError",
     "evalue": "name 'pd' is not defined",
     "output_type": "error",
     "traceback": [
      "\u001b[1;31m---------------------------------------------------------------------------\u001b[0m",
      "\u001b[1;31mNameError\u001b[0m                                 Traceback (most recent call last)",
      "\u001b[1;32m<ipython-input-2-bc71875fcb67>\u001b[0m in \u001b[0;36m<module>\u001b[1;34m\u001b[0m\n\u001b[1;32m----> 1\u001b[1;33m \u001b[0mdf_notes\u001b[0m \u001b[1;33m=\u001b[0m \u001b[0mpd\u001b[0m\u001b[1;33m.\u001b[0m\u001b[0mread_csv\u001b[0m\u001b[1;33m(\u001b[0m\u001b[1;34m\"notes.csv\"\u001b[0m\u001b[1;33m,\u001b[0m \u001b[0mindex_col\u001b[0m\u001b[1;33m=\u001b[0m\u001b[1;36m0\u001b[0m\u001b[1;33m)\u001b[0m\u001b[1;33m\u001b[0m\u001b[1;33m\u001b[0m\u001b[0m\n\u001b[0m\u001b[0;32m      2\u001b[0m \u001b[1;31m# showing just the first n rows\u001b[0m\u001b[1;33m\u001b[0m\u001b[1;33m\u001b[0m\u001b[1;33m\u001b[0m\u001b[0m\n\u001b[0;32m      3\u001b[0m \u001b[0mdf_notes\u001b[0m\u001b[1;33m.\u001b[0m\u001b[0mhead\u001b[0m\u001b[1;33m(\u001b[0m\u001b[1;36m5\u001b[0m\u001b[1;33m)\u001b[0m\u001b[1;33m\u001b[0m\u001b[1;33m\u001b[0m\u001b[0m\n\u001b[0;32m      4\u001b[0m \u001b[1;31m# or the last n rows\u001b[0m\u001b[1;33m\u001b[0m\u001b[1;33m\u001b[0m\u001b[1;33m\u001b[0m\u001b[0m\n\u001b[0;32m      5\u001b[0m \u001b[0mdf_notes\u001b[0m\u001b[1;33m.\u001b[0m\u001b[0mtail\u001b[0m\u001b[1;33m(\u001b[0m\u001b[1;36m5\u001b[0m\u001b[1;33m)\u001b[0m\u001b[1;33m\u001b[0m\u001b[1;33m\u001b[0m\u001b[0m\n",
      "\u001b[1;31mNameError\u001b[0m: name 'pd' is not defined"
     ]
    }
   ],
   "source": [
    "df_notes = pd.read_csv(\"notes.csv\", index_col=0)\n",
    "# showing just the first n rows\n",
    "df_notes.head(5)\n",
    "# or the last n rows\n",
    "df_notes.tail(5)\n",
    "    "
   ]
  },
  {
   "cell_type": "code",
   "execution_count": 3,
   "metadata": {},
   "outputs": [],
   "source": [
    "import pandas as pd\n"
   ]
  },
  {
   "cell_type": "code",
   "execution_count": 6,
   "metadata": {},
   "outputs": [
    {
     "data": {
      "text/html": [
       "<div>\n",
       "<style scoped>\n",
       "    .dataframe tbody tr th:only-of-type {\n",
       "        vertical-align: middle;\n",
       "    }\n",
       "\n",
       "    .dataframe tbody tr th {\n",
       "        vertical-align: top;\n",
       "    }\n",
       "\n",
       "    .dataframe thead th {\n",
       "        text-align: right;\n",
       "    }\n",
       "</style>\n",
       "<table border=\"1\" class=\"dataframe\">\n",
       "  <thead>\n",
       "    <tr style=\"text-align: right;\">\n",
       "      <th></th>\n",
       "      <th>eleve</th>\n",
       "      <th>note</th>\n",
       "      <th>groupe</th>\n",
       "      <th>quizz</th>\n",
       "    </tr>\n",
       "  </thead>\n",
       "  <tbody>\n",
       "    <tr>\n",
       "      <th>0</th>\n",
       "      <td>eleve0</td>\n",
       "      <td>71,43 %</td>\n",
       "      <td>Unknown</td>\n",
       "      <td>td1</td>\n",
       "    </tr>\n",
       "    <tr>\n",
       "      <th>1</th>\n",
       "      <td>eleve1</td>\n",
       "      <td>100 %</td>\n",
       "      <td>Unknown</td>\n",
       "      <td>td1</td>\n",
       "    </tr>\n",
       "    <tr>\n",
       "      <th>2</th>\n",
       "      <td>eleve4</td>\n",
       "      <td>71,43 %</td>\n",
       "      <td>Unknown</td>\n",
       "      <td>td1</td>\n",
       "    </tr>\n",
       "    <tr>\n",
       "      <th>3</th>\n",
       "      <td>eleve6</td>\n",
       "      <td>42,86 %</td>\n",
       "      <td>Unknown</td>\n",
       "      <td>td1</td>\n",
       "    </tr>\n",
       "    <tr>\n",
       "      <th>4</th>\n",
       "      <td>eleve8</td>\n",
       "      <td>57,14 %</td>\n",
       "      <td>Unknown</td>\n",
       "      <td>td1</td>\n",
       "    </tr>\n",
       "  </tbody>\n",
       "</table>\n",
       "</div>"
      ],
      "text/plain": [
       "    eleve     note   groupe quizz\n",
       "0  eleve0  71,43 %  Unknown   td1\n",
       "1  eleve1    100 %  Unknown   td1\n",
       "2  eleve4  71,43 %  Unknown   td1\n",
       "3  eleve6  42,86 %  Unknown   td1\n",
       "4  eleve8  57,14 %  Unknown   td1"
      ]
     },
     "execution_count": 6,
     "metadata": {},
     "output_type": "execute_result"
    }
   ],
   "source": [
    "df_notes = pd.read_csv(\"notes.csv\", index_col=0)\n",
    "# showing just the first n rows\n",
    "df_notes.head(5)\n"
   ]
  },
  {
   "cell_type": "code",
   "execution_count": 7,
   "metadata": {},
   "outputs": [
    {
     "data": {
      "text/html": [
       "<div>\n",
       "<style scoped>\n",
       "    .dataframe tbody tr th:only-of-type {\n",
       "        vertical-align: middle;\n",
       "    }\n",
       "\n",
       "    .dataframe tbody tr th {\n",
       "        vertical-align: top;\n",
       "    }\n",
       "\n",
       "    .dataframe thead th {\n",
       "        text-align: right;\n",
       "    }\n",
       "</style>\n",
       "<table border=\"1\" class=\"dataframe\">\n",
       "  <thead>\n",
       "    <tr style=\"text-align: right;\">\n",
       "      <th></th>\n",
       "      <th>eleve</th>\n",
       "      <th>note</th>\n",
       "      <th>groupe</th>\n",
       "      <th>quizz</th>\n",
       "    </tr>\n",
       "  </thead>\n",
       "  <tbody>\n",
       "    <tr>\n",
       "      <th>741</th>\n",
       "      <td>eleve174</td>\n",
       "      <td>100 %</td>\n",
       "      <td>ibo5</td>\n",
       "      <td>td3</td>\n",
       "    </tr>\n",
       "    <tr>\n",
       "      <th>742</th>\n",
       "      <td>eleve166</td>\n",
       "      <td>66,67 %</td>\n",
       "      <td>ibo5</td>\n",
       "      <td>td3</td>\n",
       "    </tr>\n",
       "    <tr>\n",
       "      <th>743</th>\n",
       "      <td>eleve176</td>\n",
       "      <td>83,33 %</td>\n",
       "      <td>ibo5</td>\n",
       "      <td>td3</td>\n",
       "    </tr>\n",
       "    <tr>\n",
       "      <th>744</th>\n",
       "      <td>eleve186</td>\n",
       "      <td>100 %</td>\n",
       "      <td>ibo5</td>\n",
       "      <td>td3</td>\n",
       "    </tr>\n",
       "    <tr>\n",
       "      <th>745</th>\n",
       "      <td>eleve196</td>\n",
       "      <td>66,67 %</td>\n",
       "      <td>ibo5</td>\n",
       "      <td>td3</td>\n",
       "    </tr>\n",
       "  </tbody>\n",
       "</table>\n",
       "</div>"
      ],
      "text/plain": [
       "        eleve     note groupe quizz\n",
       "741  eleve174    100 %   ibo5   td3\n",
       "742  eleve166  66,67 %   ibo5   td3\n",
       "743  eleve176  83,33 %   ibo5   td3\n",
       "744  eleve186    100 %   ibo5   td3\n",
       "745  eleve196  66,67 %   ibo5   td3"
      ]
     },
     "execution_count": 7,
     "metadata": {},
     "output_type": "execute_result"
    }
   ],
   "source": [
    "# or the last n rows\n",
    "df_notes.tail(5)"
   ]
  },
  {
   "cell_type": "code",
   "execution_count": 8,
   "metadata": {},
   "outputs": [],
   "source": [
    "def function(val):\n",
    "    \"\"\"A fonction to be applied on each element of a pandas DataFrame column / Series \"\"\"\n",
    "    # we need to return a value for each element computation\n",
    "    return val.upper()\n"
   ]
  },
  {
   "cell_type": "code",
   "execution_count": 9,
   "metadata": {},
   "outputs": [
    {
     "data": {
      "text/plain": [
       "0        ELEVE0\n",
       "1        ELEVE1\n",
       "2        ELEVE4\n",
       "3        ELEVE6\n",
       "4        ELEVE8\n",
       "         ...   \n",
       "741    ELEVE174\n",
       "742    ELEVE166\n",
       "743    ELEVE176\n",
       "744    ELEVE186\n",
       "745    ELEVE196\n",
       "Name: eleve, Length: 746, dtype: object"
      ]
     },
     "execution_count": 9,
     "metadata": {},
     "output_type": "execute_result"
    }
   ],
   "source": [
    "df_notes.eleve.apply(function) # the function applies on each value in the column"
   ]
  },
  {
   "cell_type": "code",
   "execution_count": 10,
   "metadata": {},
   "outputs": [
    {
     "data": {
      "text/html": [
       "<div>\n",
       "<style scoped>\n",
       "    .dataframe tbody tr th:only-of-type {\n",
       "        vertical-align: middle;\n",
       "    }\n",
       "\n",
       "    .dataframe tbody tr th {\n",
       "        vertical-align: top;\n",
       "    }\n",
       "\n",
       "    .dataframe thead th {\n",
       "        text-align: right;\n",
       "    }\n",
       "</style>\n",
       "<table border=\"1\" class=\"dataframe\">\n",
       "  <thead>\n",
       "    <tr style=\"text-align: right;\">\n",
       "      <th></th>\n",
       "      <th>eleve</th>\n",
       "      <th>note</th>\n",
       "      <th>groupe</th>\n",
       "      <th>quizz</th>\n",
       "    </tr>\n",
       "  </thead>\n",
       "  <tbody>\n",
       "    <tr>\n",
       "      <th>0</th>\n",
       "      <td>eleve0</td>\n",
       "      <td>71,43 %</td>\n",
       "      <td>Unknown</td>\n",
       "      <td>td1</td>\n",
       "    </tr>\n",
       "    <tr>\n",
       "      <th>1</th>\n",
       "      <td>eleve1</td>\n",
       "      <td>100 %</td>\n",
       "      <td>Unknown</td>\n",
       "      <td>td1</td>\n",
       "    </tr>\n",
       "    <tr>\n",
       "      <th>2</th>\n",
       "      <td>eleve4</td>\n",
       "      <td>71,43 %</td>\n",
       "      <td>Unknown</td>\n",
       "      <td>td1</td>\n",
       "    </tr>\n",
       "    <tr>\n",
       "      <th>3</th>\n",
       "      <td>eleve6</td>\n",
       "      <td>42,86 %</td>\n",
       "      <td>Unknown</td>\n",
       "      <td>td1</td>\n",
       "    </tr>\n",
       "    <tr>\n",
       "      <th>4</th>\n",
       "      <td>eleve8</td>\n",
       "      <td>57,14 %</td>\n",
       "      <td>Unknown</td>\n",
       "      <td>td1</td>\n",
       "    </tr>\n",
       "    <tr>\n",
       "      <th>...</th>\n",
       "      <td>...</td>\n",
       "      <td>...</td>\n",
       "      <td>...</td>\n",
       "      <td>...</td>\n",
       "    </tr>\n",
       "    <tr>\n",
       "      <th>741</th>\n",
       "      <td>eleve174</td>\n",
       "      <td>100 %</td>\n",
       "      <td>ibo5</td>\n",
       "      <td>td3</td>\n",
       "    </tr>\n",
       "    <tr>\n",
       "      <th>742</th>\n",
       "      <td>eleve166</td>\n",
       "      <td>66,67 %</td>\n",
       "      <td>ibo5</td>\n",
       "      <td>td3</td>\n",
       "    </tr>\n",
       "    <tr>\n",
       "      <th>743</th>\n",
       "      <td>eleve176</td>\n",
       "      <td>83,33 %</td>\n",
       "      <td>ibo5</td>\n",
       "      <td>td3</td>\n",
       "    </tr>\n",
       "    <tr>\n",
       "      <th>744</th>\n",
       "      <td>eleve186</td>\n",
       "      <td>100 %</td>\n",
       "      <td>ibo5</td>\n",
       "      <td>td3</td>\n",
       "    </tr>\n",
       "    <tr>\n",
       "      <th>745</th>\n",
       "      <td>eleve196</td>\n",
       "      <td>66,67 %</td>\n",
       "      <td>ibo5</td>\n",
       "      <td>td3</td>\n",
       "    </tr>\n",
       "  </tbody>\n",
       "</table>\n",
       "<p>746 rows × 4 columns</p>\n",
       "</div>"
      ],
      "text/plain": [
       "        eleve     note   groupe quizz\n",
       "0      eleve0  71,43 %  Unknown   td1\n",
       "1      eleve1    100 %  Unknown   td1\n",
       "2      eleve4  71,43 %  Unknown   td1\n",
       "3      eleve6  42,86 %  Unknown   td1\n",
       "4      eleve8  57,14 %  Unknown   td1\n",
       "..        ...      ...      ...   ...\n",
       "741  eleve174    100 %     ibo5   td3\n",
       "742  eleve166  66,67 %     ibo5   td3\n",
       "743  eleve176  83,33 %     ibo5   td3\n",
       "744  eleve186    100 %     ibo5   td3\n",
       "745  eleve196  66,67 %     ibo5   td3\n",
       "\n",
       "[746 rows x 4 columns]"
      ]
     },
     "execution_count": 10,
     "metadata": {},
     "output_type": "execute_result"
    }
   ],
   "source": [
    "df_notes"
   ]
  },
  {
   "cell_type": "code",
   "execution_count": 11,
   "metadata": {},
   "outputs": [],
   "source": [
    "def function(row):\n",
    "    \"\"\"A fonction to be applied on each row of the DataFrame\n",
    "    i.e. each row is indeed a pandas.Series object \n",
    "    passed-in the applied function at each loop iteration.\n",
    "    We will need later on to use axis=1 for Series to be the rows\"\"\"\n",
    "    \n",
    "    # having a full row we can do many things to create\n",
    "    if int( row[\"eleve\"][-1] ) % 2 == 0:\n",
    "        return \"pair\"\n",
    "    return \"impair\"\n"
   ]
  },
  {
   "cell_type": "code",
   "execution_count": 12,
   "metadata": {},
   "outputs": [
    {
     "data": {
      "text/plain": [
       "0        pair\n",
       "1      impair\n",
       "2        pair\n",
       "3        pair\n",
       "4        pair\n",
       "        ...  \n",
       "741      pair\n",
       "742      pair\n",
       "743      pair\n",
       "744      pair\n",
       "745      pair\n",
       "Length: 746, dtype: object"
      ]
     },
     "execution_count": 12,
     "metadata": {},
     "output_type": "execute_result"
    }
   ],
   "source": [
    "df_notes.apply(function, axis=1)"
   ]
  },
  {
   "cell_type": "code",
   "execution_count": null,
   "metadata": {},
   "outputs": [],
   "source": []
  },
  {
   "cell_type": "code",
   "execution_count": 13,
   "metadata": {},
   "outputs": [],
   "source": [
    "def function(row):\n",
    "    \"\"\"Another function on rows but returning a pandas.Series each time\n",
    "    i.e. then the final result will be a stack of pandas.Series along an axis or the other\n",
    "    i.e. <=> a DataFrame\"\"\"\n",
    "    if int( row[\"eleve\"][-1] ) % 2 == 0:\n",
    "        odd_or_even = \"pair\"\n",
    "    odd_or_even = \"impair\"\n",
    "    \n",
    "    cut_note = row[\"note\"].split(',')[0] # what precedes the comma\n",
    "    return pd.Series([ odd_or_even, cut_note], index=['odd_or_even', 'cut_note'])"
   ]
  },
  {
   "cell_type": "code",
   "execution_count": 14,
   "metadata": {},
   "outputs": [
    {
     "data": {
      "text/html": [
       "<div>\n",
       "<style scoped>\n",
       "    .dataframe tbody tr th:only-of-type {\n",
       "        vertical-align: middle;\n",
       "    }\n",
       "\n",
       "    .dataframe tbody tr th {\n",
       "        vertical-align: top;\n",
       "    }\n",
       "\n",
       "    .dataframe thead th {\n",
       "        text-align: right;\n",
       "    }\n",
       "</style>\n",
       "<table border=\"1\" class=\"dataframe\">\n",
       "  <thead>\n",
       "    <tr style=\"text-align: right;\">\n",
       "      <th></th>\n",
       "      <th>odd_or_even</th>\n",
       "      <th>cut_note</th>\n",
       "    </tr>\n",
       "  </thead>\n",
       "  <tbody>\n",
       "    <tr>\n",
       "      <th>0</th>\n",
       "      <td>impair</td>\n",
       "      <td>71</td>\n",
       "    </tr>\n",
       "    <tr>\n",
       "      <th>1</th>\n",
       "      <td>impair</td>\n",
       "      <td>100 %</td>\n",
       "    </tr>\n",
       "    <tr>\n",
       "      <th>2</th>\n",
       "      <td>impair</td>\n",
       "      <td>71</td>\n",
       "    </tr>\n",
       "    <tr>\n",
       "      <th>3</th>\n",
       "      <td>impair</td>\n",
       "      <td>42</td>\n",
       "    </tr>\n",
       "    <tr>\n",
       "      <th>4</th>\n",
       "      <td>impair</td>\n",
       "      <td>57</td>\n",
       "    </tr>\n",
       "    <tr>\n",
       "      <th>...</th>\n",
       "      <td>...</td>\n",
       "      <td>...</td>\n",
       "    </tr>\n",
       "    <tr>\n",
       "      <th>741</th>\n",
       "      <td>impair</td>\n",
       "      <td>100 %</td>\n",
       "    </tr>\n",
       "    <tr>\n",
       "      <th>742</th>\n",
       "      <td>impair</td>\n",
       "      <td>66</td>\n",
       "    </tr>\n",
       "    <tr>\n",
       "      <th>743</th>\n",
       "      <td>impair</td>\n",
       "      <td>83</td>\n",
       "    </tr>\n",
       "    <tr>\n",
       "      <th>744</th>\n",
       "      <td>impair</td>\n",
       "      <td>100 %</td>\n",
       "    </tr>\n",
       "    <tr>\n",
       "      <th>745</th>\n",
       "      <td>impair</td>\n",
       "      <td>66</td>\n",
       "    </tr>\n",
       "  </tbody>\n",
       "</table>\n",
       "<p>746 rows × 2 columns</p>\n",
       "</div>"
      ],
      "text/plain": [
       "    odd_or_even cut_note\n",
       "0        impair       71\n",
       "1        impair    100 %\n",
       "2        impair       71\n",
       "3        impair       42\n",
       "4        impair       57\n",
       "..          ...      ...\n",
       "741      impair    100 %\n",
       "742      impair       66\n",
       "743      impair       83\n",
       "744      impair    100 %\n",
       "745      impair       66\n",
       "\n",
       "[746 rows x 2 columns]"
      ]
     },
     "execution_count": 14,
     "metadata": {},
     "output_type": "execute_result"
    }
   ],
   "source": [
    "df_notes.apply(function, axis=1) # a pandas.Series for each row\n"
   ]
  },
  {
   "cell_type": "code",
   "execution_count": 15,
   "metadata": {},
   "outputs": [],
   "source": [
    "def function(col):\n",
    "    \"\"\"Another function on cols this time\"\"\"\n",
    "    try:\n",
    "        return sum([int(x[:1]) for x in col])\n",
    "    except:\n",
    "        return \"can't sum on this col\"\n",
    "    #return pd.Series([ odd_or_even, cut_note], index=['odd_or_even', 'cut_note'])"
   ]
  },
  {
   "cell_type": "code",
   "execution_count": 16,
   "metadata": {},
   "outputs": [
    {
     "data": {
      "text/plain": [
       "eleve     can't sum on this col\n",
       "note                       3053\n",
       "groupe    can't sum on this col\n",
       "quizz     can't sum on this col\n",
       "dtype: object"
      ]
     },
     "execution_count": 16,
     "metadata": {},
     "output_type": "execute_result"
    }
   ],
   "source": [
    "df_notes.apply(function, axis=0) # a pandas.Series for each col"
   ]
  },
  {
   "cell_type": "code",
   "execution_count": 17,
   "metadata": {},
   "outputs": [
    {
     "data": {
      "text/plain": [
       "3053.0"
      ]
     },
     "execution_count": 17,
     "metadata": {},
     "output_type": "execute_result"
    }
   ],
   "source": [
    "df_notes.note.str[:1].astype(float).sum()"
   ]
  },
  {
   "cell_type": "code",
   "execution_count": 18,
   "metadata": {},
   "outputs": [
    {
     "data": {
      "text/html": [
       "<div>\n",
       "<style scoped>\n",
       "    .dataframe tbody tr th:only-of-type {\n",
       "        vertical-align: middle;\n",
       "    }\n",
       "\n",
       "    .dataframe tbody tr th {\n",
       "        vertical-align: top;\n",
       "    }\n",
       "\n",
       "    .dataframe thead th {\n",
       "        text-align: right;\n",
       "    }\n",
       "</style>\n",
       "<table border=\"1\" class=\"dataframe\">\n",
       "  <thead>\n",
       "    <tr style=\"text-align: right;\">\n",
       "      <th></th>\n",
       "      <th>eleve</th>\n",
       "      <th>note</th>\n",
       "      <th>groupe</th>\n",
       "      <th>quizz</th>\n",
       "    </tr>\n",
       "  </thead>\n",
       "  <tbody>\n",
       "    <tr>\n",
       "      <th>0</th>\n",
       "      <td>Eleve0</td>\n",
       "      <td>71,43 %</td>\n",
       "      <td>Unknown</td>\n",
       "      <td>td1</td>\n",
       "    </tr>\n",
       "    <tr>\n",
       "      <th>1</th>\n",
       "      <td>Eleve1</td>\n",
       "      <td>100 %</td>\n",
       "      <td>Unknown</td>\n",
       "      <td>td1</td>\n",
       "    </tr>\n",
       "    <tr>\n",
       "      <th>2</th>\n",
       "      <td>Eleve4</td>\n",
       "      <td>71,43 %</td>\n",
       "      <td>Unknown</td>\n",
       "      <td>td1</td>\n",
       "    </tr>\n",
       "    <tr>\n",
       "      <th>3</th>\n",
       "      <td>Eleve6</td>\n",
       "      <td>42,86 %</td>\n",
       "      <td>Unknown</td>\n",
       "      <td>td1</td>\n",
       "    </tr>\n",
       "    <tr>\n",
       "      <th>4</th>\n",
       "      <td>Eleve8</td>\n",
       "      <td>57,14 %</td>\n",
       "      <td>Unknown</td>\n",
       "      <td>td1</td>\n",
       "    </tr>\n",
       "    <tr>\n",
       "      <th>...</th>\n",
       "      <td>...</td>\n",
       "      <td>...</td>\n",
       "      <td>...</td>\n",
       "      <td>...</td>\n",
       "    </tr>\n",
       "    <tr>\n",
       "      <th>741</th>\n",
       "      <td>Eleve174</td>\n",
       "      <td>100 %</td>\n",
       "      <td>ibo5</td>\n",
       "      <td>td3</td>\n",
       "    </tr>\n",
       "    <tr>\n",
       "      <th>742</th>\n",
       "      <td>Eleve166</td>\n",
       "      <td>66,67 %</td>\n",
       "      <td>ibo5</td>\n",
       "      <td>td3</td>\n",
       "    </tr>\n",
       "    <tr>\n",
       "      <th>743</th>\n",
       "      <td>Eleve176</td>\n",
       "      <td>83,33 %</td>\n",
       "      <td>ibo5</td>\n",
       "      <td>td3</td>\n",
       "    </tr>\n",
       "    <tr>\n",
       "      <th>744</th>\n",
       "      <td>Eleve186</td>\n",
       "      <td>100 %</td>\n",
       "      <td>ibo5</td>\n",
       "      <td>td3</td>\n",
       "    </tr>\n",
       "    <tr>\n",
       "      <th>745</th>\n",
       "      <td>Eleve196</td>\n",
       "      <td>66,67 %</td>\n",
       "      <td>ibo5</td>\n",
       "      <td>td3</td>\n",
       "    </tr>\n",
       "  </tbody>\n",
       "</table>\n",
       "<p>746 rows × 4 columns</p>\n",
       "</div>"
      ],
      "text/plain": [
       "        eleve     note   groupe quizz\n",
       "0      Eleve0  71,43 %  Unknown   td1\n",
       "1      Eleve1    100 %  Unknown   td1\n",
       "2      Eleve4  71,43 %  Unknown   td1\n",
       "3      Eleve6  42,86 %  Unknown   td1\n",
       "4      Eleve8  57,14 %  Unknown   td1\n",
       "..        ...      ...      ...   ...\n",
       "741  Eleve174    100 %     ibo5   td3\n",
       "742  Eleve166  66,67 %     ibo5   td3\n",
       "743  Eleve176  83,33 %     ibo5   td3\n",
       "744  Eleve186    100 %     ibo5   td3\n",
       "745  Eleve196  66,67 %     ibo5   td3\n",
       "\n",
       "[746 rows x 4 columns]"
      ]
     },
     "execution_count": 18,
     "metadata": {},
     "output_type": "execute_result"
    }
   ],
   "source": [
    "df_notes[\"eleve\"] = df_notes.eleve.str.capitalize()\n",
    "df_notes"
   ]
  },
  {
   "cell_type": "code",
   "execution_count": 19,
   "metadata": {},
   "outputs": [
    {
     "data": {
      "text/plain": [
       "0       True\n",
       "1       True\n",
       "2       True\n",
       "3       True\n",
       "4       True\n",
       "       ...  \n",
       "741    False\n",
       "742    False\n",
       "743    False\n",
       "744    False\n",
       "745    False\n",
       "Name: groupe, Length: 746, dtype: bool"
      ]
     },
     "execution_count": 19,
     "metadata": {},
     "output_type": "execute_result"
    }
   ],
   "source": [
    "mask = df_notes.groupe.str.startswith(\"U\")\n",
    "mask"
   ]
  },
  {
   "cell_type": "code",
   "execution_count": 20,
   "metadata": {},
   "outputs": [
    {
     "data": {
      "text/html": [
       "<div>\n",
       "<style scoped>\n",
       "    .dataframe tbody tr th:only-of-type {\n",
       "        vertical-align: middle;\n",
       "    }\n",
       "\n",
       "    .dataframe tbody tr th {\n",
       "        vertical-align: top;\n",
       "    }\n",
       "\n",
       "    .dataframe thead th {\n",
       "        text-align: right;\n",
       "    }\n",
       "</style>\n",
       "<table border=\"1\" class=\"dataframe\">\n",
       "  <thead>\n",
       "    <tr style=\"text-align: right;\">\n",
       "      <th></th>\n",
       "      <th>eleve</th>\n",
       "      <th>note</th>\n",
       "      <th>groupe</th>\n",
       "      <th>quizz</th>\n",
       "    </tr>\n",
       "  </thead>\n",
       "  <tbody>\n",
       "    <tr>\n",
       "      <th>0</th>\n",
       "      <td>Eleve0</td>\n",
       "      <td>71,43 %</td>\n",
       "      <td>Unknown</td>\n",
       "      <td>td1</td>\n",
       "    </tr>\n",
       "    <tr>\n",
       "      <th>1</th>\n",
       "      <td>Eleve1</td>\n",
       "      <td>100 %</td>\n",
       "      <td>Unknown</td>\n",
       "      <td>td1</td>\n",
       "    </tr>\n",
       "    <tr>\n",
       "      <th>2</th>\n",
       "      <td>Eleve4</td>\n",
       "      <td>71,43 %</td>\n",
       "      <td>Unknown</td>\n",
       "      <td>td1</td>\n",
       "    </tr>\n",
       "    <tr>\n",
       "      <th>3</th>\n",
       "      <td>Eleve6</td>\n",
       "      <td>42,86 %</td>\n",
       "      <td>Unknown</td>\n",
       "      <td>td1</td>\n",
       "    </tr>\n",
       "    <tr>\n",
       "      <th>4</th>\n",
       "      <td>Eleve8</td>\n",
       "      <td>57,14 %</td>\n",
       "      <td>Unknown</td>\n",
       "      <td>td1</td>\n",
       "    </tr>\n",
       "    <tr>\n",
       "      <th>...</th>\n",
       "      <td>...</td>\n",
       "      <td>...</td>\n",
       "      <td>...</td>\n",
       "      <td>...</td>\n",
       "    </tr>\n",
       "    <tr>\n",
       "      <th>741</th>\n",
       "      <td>Eleve174</td>\n",
       "      <td>100 %</td>\n",
       "      <td>ibo5</td>\n",
       "      <td>td3</td>\n",
       "    </tr>\n",
       "    <tr>\n",
       "      <th>742</th>\n",
       "      <td>Eleve166</td>\n",
       "      <td>66,67 %</td>\n",
       "      <td>ibo5</td>\n",
       "      <td>td3</td>\n",
       "    </tr>\n",
       "    <tr>\n",
       "      <th>743</th>\n",
       "      <td>Eleve176</td>\n",
       "      <td>83,33 %</td>\n",
       "      <td>ibo5</td>\n",
       "      <td>td3</td>\n",
       "    </tr>\n",
       "    <tr>\n",
       "      <th>744</th>\n",
       "      <td>Eleve186</td>\n",
       "      <td>100 %</td>\n",
       "      <td>ibo5</td>\n",
       "      <td>td3</td>\n",
       "    </tr>\n",
       "    <tr>\n",
       "      <th>745</th>\n",
       "      <td>Eleve196</td>\n",
       "      <td>66,67 %</td>\n",
       "      <td>ibo5</td>\n",
       "      <td>td3</td>\n",
       "    </tr>\n",
       "  </tbody>\n",
       "</table>\n",
       "<p>746 rows × 4 columns</p>\n",
       "</div>"
      ],
      "text/plain": [
       "        eleve     note   groupe quizz\n",
       "0      Eleve0  71,43 %  Unknown   td1\n",
       "1      Eleve1    100 %  Unknown   td1\n",
       "2      Eleve4  71,43 %  Unknown   td1\n",
       "3      Eleve6  42,86 %  Unknown   td1\n",
       "4      Eleve8  57,14 %  Unknown   td1\n",
       "..        ...      ...      ...   ...\n",
       "741  Eleve174    100 %     ibo5   td3\n",
       "742  Eleve166  66,67 %     ibo5   td3\n",
       "743  Eleve176  83,33 %     ibo5   td3\n",
       "744  Eleve186    100 %     ibo5   td3\n",
       "745  Eleve196  66,67 %     ibo5   td3\n",
       "\n",
       "[746 rows x 4 columns]"
      ]
     },
     "execution_count": 20,
     "metadata": {},
     "output_type": "execute_result"
    }
   ],
   "source": [
    "df_notes[\"eleve\"] = df_notes.eleve.str.capitalize()\n",
    "df_notes"
   ]
  },
  {
   "cell_type": "code",
   "execution_count": 22,
   "metadata": {},
   "outputs": [
    {
     "data": {
      "text/plain": [
       "0       True\n",
       "1       True\n",
       "2       True\n",
       "3       True\n",
       "4       True\n",
       "       ...  \n",
       "741    False\n",
       "742    False\n",
       "743    False\n",
       "744    False\n",
       "745    False\n",
       "Name: groupe, Length: 746, dtype: bool"
      ]
     },
     "execution_count": 22,
     "metadata": {},
     "output_type": "execute_result"
    }
   ],
   "source": [
    "mask = df_notes.groupe.str.startswith(\"U\")\n",
    "mask"
   ]
  },
  {
   "cell_type": "code",
   "execution_count": 23,
   "metadata": {},
   "outputs": [
    {
     "data": {
      "text/html": [
       "<div>\n",
       "<style scoped>\n",
       "    .dataframe tbody tr th:only-of-type {\n",
       "        vertical-align: middle;\n",
       "    }\n",
       "\n",
       "    .dataframe tbody tr th {\n",
       "        vertical-align: top;\n",
       "    }\n",
       "\n",
       "    .dataframe thead th {\n",
       "        text-align: right;\n",
       "    }\n",
       "</style>\n",
       "<table border=\"1\" class=\"dataframe\">\n",
       "  <thead>\n",
       "    <tr style=\"text-align: right;\">\n",
       "      <th></th>\n",
       "      <th>eleve</th>\n",
       "      <th>note</th>\n",
       "      <th>groupe</th>\n",
       "      <th>quizz</th>\n",
       "    </tr>\n",
       "  </thead>\n",
       "  <tbody>\n",
       "    <tr>\n",
       "      <th>0</th>\n",
       "      <td>Eleve0</td>\n",
       "      <td>71,43 %</td>\n",
       "      <td>Unknown</td>\n",
       "      <td>td1</td>\n",
       "    </tr>\n",
       "    <tr>\n",
       "      <th>1</th>\n",
       "      <td>Eleve1</td>\n",
       "      <td>100 %</td>\n",
       "      <td>Unknown</td>\n",
       "      <td>td1</td>\n",
       "    </tr>\n",
       "    <tr>\n",
       "      <th>2</th>\n",
       "      <td>Eleve4</td>\n",
       "      <td>71,43 %</td>\n",
       "      <td>Unknown</td>\n",
       "      <td>td1</td>\n",
       "    </tr>\n",
       "    <tr>\n",
       "      <th>3</th>\n",
       "      <td>Eleve6</td>\n",
       "      <td>42,86 %</td>\n",
       "      <td>Unknown</td>\n",
       "      <td>td1</td>\n",
       "    </tr>\n",
       "    <tr>\n",
       "      <th>4</th>\n",
       "      <td>Eleve8</td>\n",
       "      <td>57,14 %</td>\n",
       "      <td>Unknown</td>\n",
       "      <td>td1</td>\n",
       "    </tr>\n",
       "    <tr>\n",
       "      <th>...</th>\n",
       "      <td>...</td>\n",
       "      <td>...</td>\n",
       "      <td>...</td>\n",
       "      <td>...</td>\n",
       "    </tr>\n",
       "    <tr>\n",
       "      <th>87</th>\n",
       "      <td>Eleve202</td>\n",
       "      <td>57,14 %</td>\n",
       "      <td>Unknown</td>\n",
       "      <td>td1</td>\n",
       "    </tr>\n",
       "    <tr>\n",
       "      <th>88</th>\n",
       "      <td>Eleve203</td>\n",
       "      <td>57,14 %</td>\n",
       "      <td>Unknown</td>\n",
       "      <td>td1</td>\n",
       "    </tr>\n",
       "    <tr>\n",
       "      <th>89</th>\n",
       "      <td>Eleve204</td>\n",
       "      <td>71,43 %</td>\n",
       "      <td>Unknown</td>\n",
       "      <td>td1</td>\n",
       "    </tr>\n",
       "    <tr>\n",
       "      <th>90</th>\n",
       "      <td>Eleve205</td>\n",
       "      <td>42,86 %</td>\n",
       "      <td>Unknown</td>\n",
       "      <td>td1</td>\n",
       "    </tr>\n",
       "    <tr>\n",
       "      <th>91</th>\n",
       "      <td>Eleve207</td>\n",
       "      <td>42,86 %</td>\n",
       "      <td>Unknown</td>\n",
       "      <td>td1</td>\n",
       "    </tr>\n",
       "  </tbody>\n",
       "</table>\n",
       "<p>92 rows × 4 columns</p>\n",
       "</div>"
      ],
      "text/plain": [
       "       eleve     note   groupe quizz\n",
       "0     Eleve0  71,43 %  Unknown   td1\n",
       "1     Eleve1    100 %  Unknown   td1\n",
       "2     Eleve4  71,43 %  Unknown   td1\n",
       "3     Eleve6  42,86 %  Unknown   td1\n",
       "4     Eleve8  57,14 %  Unknown   td1\n",
       "..       ...      ...      ...   ...\n",
       "87  Eleve202  57,14 %  Unknown   td1\n",
       "88  Eleve203  57,14 %  Unknown   td1\n",
       "89  Eleve204  71,43 %  Unknown   td1\n",
       "90  Eleve205  42,86 %  Unknown   td1\n",
       "91  Eleve207  42,86 %  Unknown   td1\n",
       "\n",
       "[92 rows x 4 columns]"
      ]
     },
     "execution_count": 23,
     "metadata": {},
     "output_type": "execute_result"
    }
   ],
   "source": [
    "df_notes[mask]"
   ]
  },
  {
   "cell_type": "code",
   "execution_count": 24,
   "metadata": {},
   "outputs": [
    {
     "data": {
      "text/plain": [
       "0      [71, 43 %]\n",
       "1         [100 %]\n",
       "2      [71, 43 %]\n",
       "3      [42, 86 %]\n",
       "4      [57, 14 %]\n",
       "          ...    \n",
       "741       [100 %]\n",
       "742    [66, 67 %]\n",
       "743    [83, 33 %]\n",
       "744       [100 %]\n",
       "745    [66, 67 %]\n",
       "Name: note, Length: 746, dtype: object"
      ]
     },
     "execution_count": 24,
     "metadata": {},
     "output_type": "execute_result"
    }
   ],
   "source": [
    "df_notes.note.str.split(',')"
   ]
  },
  {
   "cell_type": "code",
   "execution_count": 25,
   "metadata": {},
   "outputs": [
    {
     "data": {
      "text/plain": [
       "0       71.43\n",
       "1      100.00\n",
       "2       71.43\n",
       "3       42.86\n",
       "4       57.14\n",
       "        ...  \n",
       "741    100.00\n",
       "742     66.67\n",
       "743     83.33\n",
       "744    100.00\n",
       "745     66.67\n",
       "Name: note, Length: 746, dtype: float64"
      ]
     },
     "execution_count": 25,
     "metadata": {},
     "output_type": "execute_result"
    }
   ],
   "source": [
    "(df_notes.note\n",
    " .str.replace(\"%\",\"\") # replace all occurences of \"%\" as \"\"\n",
    " .str.replace(\",\", \".\") # replace all occurences of \",\" as \".\"\n",
    " .astype(float)\n",
    ")"
   ]
  },
  {
   "cell_type": "code",
   "execution_count": 26,
   "metadata": {},
   "outputs": [
    {
     "ename": "IndentationError",
     "evalue": "unexpected indent (<ipython-input-26-073f59e70455>, line 2)",
     "output_type": "error",
     "traceback": [
      "\u001b[1;36m  File \u001b[1;32m\"<ipython-input-26-073f59e70455>\"\u001b[1;36m, line \u001b[1;32m2\u001b[0m\n\u001b[1;33m    .str.findall(\"(\\d+),?(\\d+)?\") #regex to find all matching groups in each element of the Series\u001b[0m\n\u001b[1;37m    ^\u001b[0m\n\u001b[1;31mIndentationError\u001b[0m\u001b[1;31m:\u001b[0m unexpected indent\n"
     ]
    }
   ],
   "source": [
    "df_notes.note\n",
    " .str.findall(\"(\\d+),?(\\d+)?\") #regex to find all matching groups in each element of the Series\n",
    " .str[0] # vectorized element access in the column, works for all iterable, hence even a list in a pd.Series, \n",
    " .str.join(\".\") # join the lists with \".\" rather than ','\n",
    " .str.rstrip('.') # take off the last dot if exists\n",
    " .astype(float) # convert to float type\n",
    ") "
   ]
  },
  {
   "cell_type": "code",
   "execution_count": 27,
   "metadata": {},
   "outputs": [
    {
     "data": {
      "text/plain": [
       "0       71.43\n",
       "1      100.00\n",
       "2       71.43\n",
       "3       42.86\n",
       "4       57.14\n",
       "        ...  \n",
       "741    100.00\n",
       "742     66.67\n",
       "743     83.33\n",
       "744    100.00\n",
       "745     66.67\n",
       "Name: note, Length: 746, dtype: float64"
      ]
     },
     "execution_count": 27,
     "metadata": {},
     "output_type": "execute_result"
    }
   ],
   "source": [
    "(df_notes.note\n",
    " .str.findall(\"(\\d+),?(\\d+)?\") #regex to find all matching groups in each element of the Series\n",
    " .str[0] # vectorized element access in the column, works for all iterable, hence even a list in a pd.Series, \n",
    " .str.join(\".\") # join the lists with \".\" rather than ','\n",
    " .str.rstrip('.') # take off the last dot if exists\n",
    " .astype(float) # convert to float type\n",
    ") "
   ]
  },
  {
   "cell_type": "code",
   "execution_count": 28,
   "metadata": {},
   "outputs": [],
   "source": [
    "serie_notes =\\\n",
    "( \n",
    "df_notes.note\n",
    " .str.extract(\"(\\d+),?(\\d+)?\") # expand to multiple cols\n",
    " .fillna(0) # fill NaN as 0 when no matched group\n",
    " .astype(float) # convert to float\n",
    ")\n",
    "serie_notes[0] += serie_notes[1]/100\n",
    "serie_notes.drop(1, axis=1,inplace=True)"
   ]
  },
  {
   "cell_type": "code",
   "execution_count": 29,
   "metadata": {},
   "outputs": [],
   "source": [
    "df_notes.note = serie_notes"
   ]
  },
  {
   "cell_type": "code",
   "execution_count": 30,
   "metadata": {},
   "outputs": [
    {
     "data": {
      "text/html": [
       "<div>\n",
       "<style scoped>\n",
       "    .dataframe tbody tr th:only-of-type {\n",
       "        vertical-align: middle;\n",
       "    }\n",
       "\n",
       "    .dataframe tbody tr th {\n",
       "        vertical-align: top;\n",
       "    }\n",
       "\n",
       "    .dataframe thead th {\n",
       "        text-align: right;\n",
       "    }\n",
       "</style>\n",
       "<table border=\"1\" class=\"dataframe\">\n",
       "  <thead>\n",
       "    <tr style=\"text-align: right;\">\n",
       "      <th></th>\n",
       "      <th>eleve</th>\n",
       "      <th>note</th>\n",
       "      <th>groupe</th>\n",
       "      <th>quizz</th>\n",
       "    </tr>\n",
       "  </thead>\n",
       "  <tbody>\n",
       "    <tr>\n",
       "      <th>0</th>\n",
       "      <td>Eleve0</td>\n",
       "      <td>71.43</td>\n",
       "      <td>Unknown</td>\n",
       "      <td>td1</td>\n",
       "    </tr>\n",
       "    <tr>\n",
       "      <th>1</th>\n",
       "      <td>Eleve1</td>\n",
       "      <td>100.00</td>\n",
       "      <td>Unknown</td>\n",
       "      <td>td1</td>\n",
       "    </tr>\n",
       "    <tr>\n",
       "      <th>2</th>\n",
       "      <td>Eleve4</td>\n",
       "      <td>71.43</td>\n",
       "      <td>Unknown</td>\n",
       "      <td>td1</td>\n",
       "    </tr>\n",
       "    <tr>\n",
       "      <th>3</th>\n",
       "      <td>Eleve6</td>\n",
       "      <td>42.86</td>\n",
       "      <td>Unknown</td>\n",
       "      <td>td1</td>\n",
       "    </tr>\n",
       "    <tr>\n",
       "      <th>4</th>\n",
       "      <td>Eleve8</td>\n",
       "      <td>57.14</td>\n",
       "      <td>Unknown</td>\n",
       "      <td>td1</td>\n",
       "    </tr>\n",
       "    <tr>\n",
       "      <th>...</th>\n",
       "      <td>...</td>\n",
       "      <td>...</td>\n",
       "      <td>...</td>\n",
       "      <td>...</td>\n",
       "    </tr>\n",
       "    <tr>\n",
       "      <th>741</th>\n",
       "      <td>Eleve174</td>\n",
       "      <td>100.00</td>\n",
       "      <td>ibo5</td>\n",
       "      <td>td3</td>\n",
       "    </tr>\n",
       "    <tr>\n",
       "      <th>742</th>\n",
       "      <td>Eleve166</td>\n",
       "      <td>66.67</td>\n",
       "      <td>ibo5</td>\n",
       "      <td>td3</td>\n",
       "    </tr>\n",
       "    <tr>\n",
       "      <th>743</th>\n",
       "      <td>Eleve176</td>\n",
       "      <td>83.33</td>\n",
       "      <td>ibo5</td>\n",
       "      <td>td3</td>\n",
       "    </tr>\n",
       "    <tr>\n",
       "      <th>744</th>\n",
       "      <td>Eleve186</td>\n",
       "      <td>100.00</td>\n",
       "      <td>ibo5</td>\n",
       "      <td>td3</td>\n",
       "    </tr>\n",
       "    <tr>\n",
       "      <th>745</th>\n",
       "      <td>Eleve196</td>\n",
       "      <td>66.67</td>\n",
       "      <td>ibo5</td>\n",
       "      <td>td3</td>\n",
       "    </tr>\n",
       "  </tbody>\n",
       "</table>\n",
       "<p>746 rows × 4 columns</p>\n",
       "</div>"
      ],
      "text/plain": [
       "        eleve    note   groupe quizz\n",
       "0      Eleve0   71.43  Unknown   td1\n",
       "1      Eleve1  100.00  Unknown   td1\n",
       "2      Eleve4   71.43  Unknown   td1\n",
       "3      Eleve6   42.86  Unknown   td1\n",
       "4      Eleve8   57.14  Unknown   td1\n",
       "..        ...     ...      ...   ...\n",
       "741  Eleve174  100.00     ibo5   td3\n",
       "742  Eleve166   66.67     ibo5   td3\n",
       "743  Eleve176   83.33     ibo5   td3\n",
       "744  Eleve186  100.00     ibo5   td3\n",
       "745  Eleve196   66.67     ibo5   td3\n",
       "\n",
       "[746 rows x 4 columns]"
      ]
     },
     "execution_count": 30,
     "metadata": {},
     "output_type": "execute_result"
    }
   ],
   "source": [
    "df_notes\n"
   ]
  },
  {
   "cell_type": "code",
   "execution_count": 31,
   "metadata": {},
   "outputs": [
    {
     "data": {
      "text/plain": [
       "ibo1       117\n",
       "ibo5       115\n",
       "ibo7       114\n",
       "Unknown     92\n",
       "ibo3        85\n",
       "ibo6        85\n",
       "ibo4        81\n",
       "ibo2        57\n",
       "Name: groupe, dtype: int64"
      ]
     },
     "execution_count": 31,
     "metadata": {},
     "output_type": "execute_result"
    }
   ],
   "source": [
    "df_notes.groupe.value_counts(ascending=False)"
   ]
  },
  {
   "cell_type": "code",
   "execution_count": null,
   "metadata": {},
   "outputs": [],
   "source": []
  },
  {
   "cell_type": "code",
   "execution_count": 32,
   "metadata": {},
   "outputs": [
    {
     "data": {
      "text/plain": [
       "0       (60.0, 80.0]\n",
       "1      (80.0, 100.0]\n",
       "2       (60.0, 80.0]\n",
       "3       (40.0, 60.0]\n",
       "4       (40.0, 60.0]\n",
       "           ...      \n",
       "741    (80.0, 100.0]\n",
       "742     (60.0, 80.0]\n",
       "743    (80.0, 100.0]\n",
       "744    (80.0, 100.0]\n",
       "745     (60.0, 80.0]\n",
       "Name: note, Length: 746, dtype: category\n",
       "Categories (5, interval[float64]): [(-0.1, 20.0] < (20.0, 40.0] < (40.0, 60.0] < (60.0, 80.0] < (80.0, 100.0]]"
      ]
     },
     "execution_count": 32,
     "metadata": {},
     "output_type": "execute_result"
    }
   ],
   "source": [
    "pd.cut(df_notes.note, bins=5) # 5 equal sized bins"
   ]
  },
  {
   "cell_type": "code",
   "execution_count": 33,
   "metadata": {},
   "outputs": [
    {
     "data": {
      "text/plain": [
       "0       (50, 75]\n",
       "1      (75, 100]\n",
       "2       (50, 75]\n",
       "3        (0, 50]\n",
       "4       (50, 75]\n",
       "         ...    \n",
       "741    (75, 100]\n",
       "742     (50, 75]\n",
       "743    (75, 100]\n",
       "744    (75, 100]\n",
       "745     (50, 75]\n",
       "Name: note, Length: 746, dtype: category\n",
       "Categories (3, interval[int64]): [(0, 50] < (50, 75] < (75, 100]]"
      ]
     },
     "execution_count": 33,
     "metadata": {},
     "output_type": "execute_result"
    }
   ],
   "source": [
    "pd.cut(df_notes.note, bins=[0, 50, 75, 100])"
   ]
  },
  {
   "cell_type": "code",
   "execution_count": 34,
   "metadata": {},
   "outputs": [
    {
     "name": "stdout",
     "output_type": "stream",
     "text": [
      "Bin labels must be one fewer than the number of bin edges\n"
     ]
    }
   ],
   "source": [
    "try: \n",
    "    pd.cut(df_notes.note, bins=[0, 50, 75, 100], labels=[\"Bad\"])\n",
    "except Exception as e:\n",
    "    print(e)"
   ]
  },
  {
   "cell_type": "code",
   "execution_count": 35,
   "metadata": {},
   "outputs": [
    {
     "data": {
      "text/plain": [
       "0        Ok\n",
       "1      Good\n",
       "2        Ok\n",
       "3       Bad\n",
       "4        Ok\n",
       "       ... \n",
       "741    Good\n",
       "742      Ok\n",
       "743    Good\n",
       "744    Good\n",
       "745      Ok\n",
       "Name: appreciation, Length: 746, dtype: category\n",
       "Categories (4, object): [Very Bad < Bad < Ok < Good]"
      ]
     },
     "execution_count": 35,
     "metadata": {},
     "output_type": "execute_result"
    }
   ],
   "source": [
    "df_notes['appreciation'] = pd.cut(df_notes.note, bins=[0, 25, 50, 75, 100], labels=[\"Very Bad\", \"Bad\", \"Ok\", \"Good\"])\n",
    "df_notes.appreciation"
   ]
  },
  {
   "cell_type": "code",
   "execution_count": 36,
   "metadata": {},
   "outputs": [
    {
     "data": {
      "text/html": [
       "<div>\n",
       "<style scoped>\n",
       "    .dataframe tbody tr th:only-of-type {\n",
       "        vertical-align: middle;\n",
       "    }\n",
       "\n",
       "    .dataframe tbody tr th {\n",
       "        vertical-align: top;\n",
       "    }\n",
       "\n",
       "    .dataframe thead th {\n",
       "        text-align: right;\n",
       "    }\n",
       "</style>\n",
       "<table border=\"1\" class=\"dataframe\">\n",
       "  <thead>\n",
       "    <tr style=\"text-align: right;\">\n",
       "      <th></th>\n",
       "      <th>eleve</th>\n",
       "      <th>note</th>\n",
       "      <th>groupe</th>\n",
       "      <th>quizz</th>\n",
       "      <th>appreciation</th>\n",
       "    </tr>\n",
       "  </thead>\n",
       "  <tbody>\n",
       "    <tr>\n",
       "      <th>0</th>\n",
       "      <td>Eleve0</td>\n",
       "      <td>71.43</td>\n",
       "      <td>Unknown</td>\n",
       "      <td>td1</td>\n",
       "      <td>Ok</td>\n",
       "    </tr>\n",
       "    <tr>\n",
       "      <th>1</th>\n",
       "      <td>Eleve1</td>\n",
       "      <td>100.00</td>\n",
       "      <td>Unknown</td>\n",
       "      <td>td1</td>\n",
       "      <td>Good</td>\n",
       "    </tr>\n",
       "    <tr>\n",
       "      <th>2</th>\n",
       "      <td>Eleve4</td>\n",
       "      <td>71.43</td>\n",
       "      <td>Unknown</td>\n",
       "      <td>td1</td>\n",
       "      <td>Ok</td>\n",
       "    </tr>\n",
       "  </tbody>\n",
       "</table>\n",
       "</div>"
      ],
      "text/plain": [
       "    eleve    note   groupe quizz appreciation\n",
       "0  Eleve0   71.43  Unknown   td1           Ok\n",
       "1  Eleve1  100.00  Unknown   td1         Good\n",
       "2  Eleve4   71.43  Unknown   td1           Ok"
      ]
     },
     "execution_count": 36,
     "metadata": {},
     "output_type": "execute_result"
    }
   ],
   "source": [
    "df_notes.head(3)"
   ]
  },
  {
   "cell_type": "code",
   "execution_count": 37,
   "metadata": {},
   "outputs": [
    {
     "data": {
      "text/plain": [
       "<pandas.core.groupby.generic.DataFrameGroupBy object at 0x0000020E8525B0B8>"
      ]
     },
     "execution_count": 37,
     "metadata": {},
     "output_type": "execute_result"
    }
   ],
   "source": [
    "df_notes.groupby('groupe') \n"
   ]
  },
  {
   "cell_type": "code",
   "execution_count": 38,
   "metadata": {},
   "outputs": [
    {
     "name": "stdout",
     "output_type": "stream",
     "text": [
      "label used Unknown, dataframe shape (92, 5)\n",
      "label used ibo1, dataframe shape (117, 5)\n",
      "label used ibo2, dataframe shape (57, 5)\n",
      "label used ibo3, dataframe shape (85, 5)\n",
      "label used ibo4, dataframe shape (81, 5)\n",
      "label used ibo5, dataframe shape (115, 5)\n",
      "label used ibo6, dataframe shape (85, 5)\n",
      "label used ibo7, dataframe shape (114, 5)\n"
     ]
    }
   ],
   "source": [
    "for name_group, group in df_notes.groupby('groupe'):\n",
    "    # the label used , the df subset (one for each label)\n",
    "    print( \"label used {}, dataframe shape {}\".format(name_group,group.shape)) "
   ]
  },
  {
   "cell_type": "code",
   "execution_count": 39,
   "metadata": {},
   "outputs": [
    {
     "name": "stdout",
     "output_type": "stream",
     "text": [
      "label used ('Unknown', 'td1'), dataframe shape (92, 5)\n",
      "label used ('ibo1', 'td1'), dataframe shape (30, 5)\n",
      "label used ('ibo1', 'td2'), dataframe shape (30, 5)\n",
      "label used ('ibo1', 'td3'), dataframe shape (27, 5)\n",
      "label used ('ibo1', 'td4'), dataframe shape (30, 5)\n",
      "label used ('ibo2', 'td2'), dataframe shape (30, 5)\n",
      "label used ('ibo2', 'td3'), dataframe shape (27, 5)\n",
      "label used ('ibo3', 'td2'), dataframe shape (30, 5)\n",
      "label used ('ibo3', 'td3'), dataframe shape (27, 5)\n",
      "label used ('ibo3', 'td4'), dataframe shape (28, 5)\n",
      "label used ('ibo4', 'td2'), dataframe shape (27, 5)\n",
      "label used ('ibo4', 'td3'), dataframe shape (28, 5)\n",
      "label used ('ibo4', 'td4'), dataframe shape (26, 5)\n",
      "label used ('ibo5', 'td1'), dataframe shape (27, 5)\n",
      "label used ('ibo5', 'td2'), dataframe shape (30, 5)\n",
      "label used ('ibo5', 'td3'), dataframe shape (28, 5)\n",
      "label used ('ibo5', 'td4'), dataframe shape (30, 5)\n",
      "label used ('ibo6', 'td2'), dataframe shape (29, 5)\n",
      "label used ('ibo6', 'td3'), dataframe shape (28, 5)\n",
      "label used ('ibo6', 'td4'), dataframe shape (28, 5)\n",
      "label used ('ibo7', 'td1'), dataframe shape (29, 5)\n",
      "label used ('ibo7', 'td2'), dataframe shape (28, 5)\n",
      "label used ('ibo7', 'td3'), dataframe shape (28, 5)\n",
      "label used ('ibo7', 'td4'), dataframe shape (29, 5)\n"
     ]
    }
   ],
   "source": [
    "for name_group, group in df_notes.groupby(['groupe', \"quizz\"]):\n",
    "    # the label used , the df subset (one for each label)\n",
    "    print( \"label used {}, dataframe shape {}\".format(name_group,group.shape)) "
   ]
  },
  {
   "cell_type": "code",
   "execution_count": 40,
   "metadata": {},
   "outputs": [
    {
     "data": {
      "text/plain": [
       "<pandas.core.groupby.generic.SeriesGroupBy object at 0x0000020E89929668>"
      ]
     },
     "execution_count": 40,
     "metadata": {},
     "output_type": "execute_result"
    }
   ],
   "source": [
    "df_notes.groupby(['groupe', \"quizz\"])[\"note\"]"
   ]
  },
  {
   "cell_type": "code",
   "execution_count": 41,
   "metadata": {},
   "outputs": [
    {
     "name": "stdout",
     "output_type": "stream",
     "text": [
      "label used ('Unknown', 'td1'), \n",
      "<class 'pandas.core.series.Series'> shape (92,)\n",
      "label used ('ibo1', 'td1'), \n",
      "<class 'pandas.core.series.Series'> shape (30,)\n",
      "label used ('ibo1', 'td2'), \n",
      "<class 'pandas.core.series.Series'> shape (30,)\n",
      "label used ('ibo1', 'td3'), \n",
      "<class 'pandas.core.series.Series'> shape (27,)\n",
      "label used ('ibo1', 'td4'), \n",
      "<class 'pandas.core.series.Series'> shape (30,)\n",
      "label used ('ibo2', 'td2'), \n",
      "<class 'pandas.core.series.Series'> shape (30,)\n",
      "label used ('ibo2', 'td3'), \n",
      "<class 'pandas.core.series.Series'> shape (27,)\n",
      "label used ('ibo3', 'td2'), \n",
      "<class 'pandas.core.series.Series'> shape (30,)\n",
      "label used ('ibo3', 'td3'), \n",
      "<class 'pandas.core.series.Series'> shape (27,)\n",
      "label used ('ibo3', 'td4'), \n",
      "<class 'pandas.core.series.Series'> shape (28,)\n",
      "label used ('ibo4', 'td2'), \n",
      "<class 'pandas.core.series.Series'> shape (27,)\n",
      "label used ('ibo4', 'td3'), \n",
      "<class 'pandas.core.series.Series'> shape (28,)\n",
      "label used ('ibo4', 'td4'), \n",
      "<class 'pandas.core.series.Series'> shape (26,)\n",
      "label used ('ibo5', 'td1'), \n",
      "<class 'pandas.core.series.Series'> shape (27,)\n",
      "label used ('ibo5', 'td2'), \n",
      "<class 'pandas.core.series.Series'> shape (30,)\n",
      "label used ('ibo5', 'td3'), \n",
      "<class 'pandas.core.series.Series'> shape (28,)\n",
      "label used ('ibo5', 'td4'), \n",
      "<class 'pandas.core.series.Series'> shape (30,)\n",
      "label used ('ibo6', 'td2'), \n",
      "<class 'pandas.core.series.Series'> shape (29,)\n",
      "label used ('ibo6', 'td3'), \n",
      "<class 'pandas.core.series.Series'> shape (28,)\n",
      "label used ('ibo6', 'td4'), \n",
      "<class 'pandas.core.series.Series'> shape (28,)\n",
      "label used ('ibo7', 'td1'), \n",
      "<class 'pandas.core.series.Series'> shape (29,)\n",
      "label used ('ibo7', 'td2'), \n",
      "<class 'pandas.core.series.Series'> shape (28,)\n",
      "label used ('ibo7', 'td3'), \n",
      "<class 'pandas.core.series.Series'> shape (28,)\n",
      "label used ('ibo7', 'td4'), \n",
      "<class 'pandas.core.series.Series'> shape (29,)\n"
     ]
    }
   ],
   "source": [
    "for name_group, group in df_notes.groupby(['groupe', \"quizz\"])[\"note\"]:\n",
    "    print( \"label used {}, \\n{} shape {}\".format(name_group, type(group), group.shape)) "
   ]
  },
  {
   "cell_type": "code",
   "execution_count": 42,
   "metadata": {},
   "outputs": [
    {
     "data": {
      "text/plain": [
       "eleve             object\n",
       "note             float64\n",
       "groupe            object\n",
       "quizz             object\n",
       "appreciation    category\n",
       "dtype: object"
      ]
     },
     "execution_count": 42,
     "metadata": {},
     "output_type": "execute_result"
    }
   ],
   "source": [
    "df_notes.dtypes "
   ]
  },
  {
   "cell_type": "code",
   "execution_count": 43,
   "metadata": {},
   "outputs": [
    {
     "data": {
      "text/plain": [
       "groupe\n",
       "Unknown    63.664022\n",
       "ibo1       87.337607\n",
       "ibo2       97.251053\n",
       "ibo3       86.418824\n",
       "ibo4       87.953580\n",
       "ibo5       80.288957\n",
       "ibo6       83.484000\n",
       "ibo7       86.402456\n",
       "Name: note, dtype: float64"
      ]
     },
     "execution_count": 43,
     "metadata": {},
     "output_type": "execute_result"
    }
   ],
   "source": [
    "df_notes.groupby(['groupe'])[\"note\"].mean()"
   ]
  },
  {
   "cell_type": "code",
   "execution_count": 44,
   "metadata": {},
   "outputs": [
    {
     "data": {
      "text/plain": [
       "groupe   quizz\n",
       "Unknown  td1      63.664022\n",
       "ibo1     td1      67.618000\n",
       "         td2      94.666667\n",
       "         td3      90.739630\n",
       "         td4      96.666333\n",
       "ibo2     td2      98.666667\n",
       "         td3      95.678148\n",
       "ibo3     td2      88.666667\n",
       "         td3      88.887037\n",
       "         td4      81.630357\n",
       "ibo4     td2      87.407407\n",
       "         td3      87.500000\n",
       "         td4      89.009231\n",
       "ibo5     td1      53.967407\n",
       "         td2      90.000000\n",
       "         td3      90.475714\n",
       "         td4      84.759667\n",
       "ibo6     td2      90.344828\n",
       "         td3      83.332857\n",
       "         td4      76.529286\n",
       "ibo7     td1      74.875517\n",
       "         td2      85.714286\n",
       "         td3      94.642500\n",
       "         td4      90.637931\n",
       "Name: note, dtype: float64"
      ]
     },
     "execution_count": 44,
     "metadata": {},
     "output_type": "execute_result"
    }
   ],
   "source": [
    "df_notes.groupby(['groupe', 'quizz'])[\"note\"].mean()"
   ]
  },
  {
   "cell_type": "code",
   "execution_count": 45,
   "metadata": {},
   "outputs": [
    {
     "data": {
      "text/html": [
       "<div>\n",
       "<style scoped>\n",
       "    .dataframe tbody tr th:only-of-type {\n",
       "        vertical-align: middle;\n",
       "    }\n",
       "\n",
       "    .dataframe tbody tr th {\n",
       "        vertical-align: top;\n",
       "    }\n",
       "\n",
       "    .dataframe thead th {\n",
       "        text-align: right;\n",
       "    }\n",
       "</style>\n",
       "<table border=\"1\" class=\"dataframe\">\n",
       "  <thead>\n",
       "    <tr style=\"text-align: right;\">\n",
       "      <th>quizz</th>\n",
       "      <th>td1</th>\n",
       "      <th>td2</th>\n",
       "      <th>td3</th>\n",
       "      <th>td4</th>\n",
       "    </tr>\n",
       "    <tr>\n",
       "      <th>groupe</th>\n",
       "      <th></th>\n",
       "      <th></th>\n",
       "      <th></th>\n",
       "      <th></th>\n",
       "    </tr>\n",
       "  </thead>\n",
       "  <tbody>\n",
       "    <tr>\n",
       "      <th>Unknown</th>\n",
       "      <td>63.664022</td>\n",
       "      <td>NaN</td>\n",
       "      <td>NaN</td>\n",
       "      <td>NaN</td>\n",
       "    </tr>\n",
       "    <tr>\n",
       "      <th>ibo1</th>\n",
       "      <td>67.618000</td>\n",
       "      <td>94.666667</td>\n",
       "      <td>90.739630</td>\n",
       "      <td>96.666333</td>\n",
       "    </tr>\n",
       "    <tr>\n",
       "      <th>ibo2</th>\n",
       "      <td>NaN</td>\n",
       "      <td>98.666667</td>\n",
       "      <td>95.678148</td>\n",
       "      <td>NaN</td>\n",
       "    </tr>\n",
       "    <tr>\n",
       "      <th>ibo3</th>\n",
       "      <td>NaN</td>\n",
       "      <td>88.666667</td>\n",
       "      <td>88.887037</td>\n",
       "      <td>81.630357</td>\n",
       "    </tr>\n",
       "    <tr>\n",
       "      <th>ibo4</th>\n",
       "      <td>NaN</td>\n",
       "      <td>87.407407</td>\n",
       "      <td>87.500000</td>\n",
       "      <td>89.009231</td>\n",
       "    </tr>\n",
       "    <tr>\n",
       "      <th>ibo5</th>\n",
       "      <td>53.967407</td>\n",
       "      <td>90.000000</td>\n",
       "      <td>90.475714</td>\n",
       "      <td>84.759667</td>\n",
       "    </tr>\n",
       "    <tr>\n",
       "      <th>ibo6</th>\n",
       "      <td>NaN</td>\n",
       "      <td>90.344828</td>\n",
       "      <td>83.332857</td>\n",
       "      <td>76.529286</td>\n",
       "    </tr>\n",
       "    <tr>\n",
       "      <th>ibo7</th>\n",
       "      <td>74.875517</td>\n",
       "      <td>85.714286</td>\n",
       "      <td>94.642500</td>\n",
       "      <td>90.637931</td>\n",
       "    </tr>\n",
       "  </tbody>\n",
       "</table>\n",
       "</div>"
      ],
      "text/plain": [
       "quizz          td1        td2        td3        td4\n",
       "groupe                                             \n",
       "Unknown  63.664022        NaN        NaN        NaN\n",
       "ibo1     67.618000  94.666667  90.739630  96.666333\n",
       "ibo2           NaN  98.666667  95.678148        NaN\n",
       "ibo3           NaN  88.666667  88.887037  81.630357\n",
       "ibo4           NaN  87.407407  87.500000  89.009231\n",
       "ibo5     53.967407  90.000000  90.475714  84.759667\n",
       "ibo6           NaN  90.344828  83.332857  76.529286\n",
       "ibo7     74.875517  85.714286  94.642500  90.637931"
      ]
     },
     "execution_count": 45,
     "metadata": {},
     "output_type": "execute_result"
    }
   ],
   "source": [
    "_.unstack()"
   ]
  },
  {
   "cell_type": "code",
   "execution_count": 46,
   "metadata": {},
   "outputs": [
    {
     "data": {
      "text/plain": [
       "eleve           0\n",
       "note            0\n",
       "groupe          0\n",
       "quizz           0\n",
       "appreciation    2\n",
       "dtype: int64"
      ]
     },
     "execution_count": 46,
     "metadata": {},
     "output_type": "execute_result"
    }
   ],
   "source": [
    "df_notes.isnull().sum()"
   ]
  },
  {
   "cell_type": "code",
   "execution_count": 47,
   "metadata": {},
   "outputs": [
    {
     "data": {
      "text/plain": [
       "eleve           0\n",
       "note            0\n",
       "groupe          0\n",
       "quizz           0\n",
       "appreciation    2\n",
       "dtype: int64"
      ]
     },
     "execution_count": 47,
     "metadata": {},
     "output_type": "execute_result"
    }
   ],
   "source": [
    "df_notes.isnull().apply(sum, axis=0)"
   ]
  },
  {
   "cell_type": "code",
   "execution_count": 48,
   "metadata": {},
   "outputs": [
    {
     "data": {
      "text/html": [
       "<div>\n",
       "<style scoped>\n",
       "    .dataframe tbody tr th:only-of-type {\n",
       "        vertical-align: middle;\n",
       "    }\n",
       "\n",
       "    .dataframe tbody tr th {\n",
       "        vertical-align: top;\n",
       "    }\n",
       "\n",
       "    .dataframe thead th {\n",
       "        text-align: right;\n",
       "    }\n",
       "</style>\n",
       "<table border=\"1\" class=\"dataframe\">\n",
       "  <thead>\n",
       "    <tr style=\"text-align: right;\">\n",
       "      <th></th>\n",
       "      <th>eleve</th>\n",
       "      <th>note</th>\n",
       "      <th>groupe</th>\n",
       "      <th>quizz</th>\n",
       "      <th>appreciation</th>\n",
       "    </tr>\n",
       "  </thead>\n",
       "  <tbody>\n",
       "    <tr>\n",
       "      <th>0</th>\n",
       "      <td>Eleve0</td>\n",
       "      <td>71.43</td>\n",
       "      <td>Unknown</td>\n",
       "      <td>td1</td>\n",
       "      <td>Ok</td>\n",
       "    </tr>\n",
       "    <tr>\n",
       "      <th>1</th>\n",
       "      <td>Eleve1</td>\n",
       "      <td>100.00</td>\n",
       "      <td>Unknown</td>\n",
       "      <td>td1</td>\n",
       "      <td>Good</td>\n",
       "    </tr>\n",
       "    <tr>\n",
       "      <th>2</th>\n",
       "      <td>Eleve4</td>\n",
       "      <td>71.43</td>\n",
       "      <td>Unknown</td>\n",
       "      <td>td1</td>\n",
       "      <td>Ok</td>\n",
       "    </tr>\n",
       "    <tr>\n",
       "      <th>3</th>\n",
       "      <td>Eleve6</td>\n",
       "      <td>42.86</td>\n",
       "      <td>Unknown</td>\n",
       "      <td>td1</td>\n",
       "      <td>Bad</td>\n",
       "    </tr>\n",
       "    <tr>\n",
       "      <th>4</th>\n",
       "      <td>Eleve8</td>\n",
       "      <td>57.14</td>\n",
       "      <td>Unknown</td>\n",
       "      <td>td1</td>\n",
       "      <td>Ok</td>\n",
       "    </tr>\n",
       "    <tr>\n",
       "      <th>...</th>\n",
       "      <td>...</td>\n",
       "      <td>...</td>\n",
       "      <td>...</td>\n",
       "      <td>...</td>\n",
       "      <td>...</td>\n",
       "    </tr>\n",
       "    <tr>\n",
       "      <th>87</th>\n",
       "      <td>Eleve202</td>\n",
       "      <td>57.14</td>\n",
       "      <td>Unknown</td>\n",
       "      <td>td1</td>\n",
       "      <td>Ok</td>\n",
       "    </tr>\n",
       "    <tr>\n",
       "      <th>88</th>\n",
       "      <td>Eleve203</td>\n",
       "      <td>57.14</td>\n",
       "      <td>Unknown</td>\n",
       "      <td>td1</td>\n",
       "      <td>Ok</td>\n",
       "    </tr>\n",
       "    <tr>\n",
       "      <th>89</th>\n",
       "      <td>Eleve204</td>\n",
       "      <td>71.43</td>\n",
       "      <td>Unknown</td>\n",
       "      <td>td1</td>\n",
       "      <td>Ok</td>\n",
       "    </tr>\n",
       "    <tr>\n",
       "      <th>90</th>\n",
       "      <td>Eleve205</td>\n",
       "      <td>42.86</td>\n",
       "      <td>Unknown</td>\n",
       "      <td>td1</td>\n",
       "      <td>Bad</td>\n",
       "    </tr>\n",
       "    <tr>\n",
       "      <th>91</th>\n",
       "      <td>Eleve207</td>\n",
       "      <td>42.86</td>\n",
       "      <td>Unknown</td>\n",
       "      <td>td1</td>\n",
       "      <td>Bad</td>\n",
       "    </tr>\n",
       "  </tbody>\n",
       "</table>\n",
       "<p>92 rows × 5 columns</p>\n",
       "</div>"
      ],
      "text/plain": [
       "       eleve    note   groupe quizz appreciation\n",
       "0     Eleve0   71.43  Unknown   td1           Ok\n",
       "1     Eleve1  100.00  Unknown   td1         Good\n",
       "2     Eleve4   71.43  Unknown   td1           Ok\n",
       "3     Eleve6   42.86  Unknown   td1          Bad\n",
       "4     Eleve8   57.14  Unknown   td1           Ok\n",
       "..       ...     ...      ...   ...          ...\n",
       "87  Eleve202   57.14  Unknown   td1           Ok\n",
       "88  Eleve203   57.14  Unknown   td1           Ok\n",
       "89  Eleve204   71.43  Unknown   td1           Ok\n",
       "90  Eleve205   42.86  Unknown   td1          Bad\n",
       "91  Eleve207   42.86  Unknown   td1          Bad\n",
       "\n",
       "[92 rows x 5 columns]"
      ]
     },
     "execution_count": 48,
     "metadata": {},
     "output_type": "execute_result"
    }
   ],
   "source": [
    "df_notes[df_notes.groupe == \"Unknown\"]"
   ]
  },
  {
   "cell_type": "code",
   "execution_count": 49,
   "metadata": {},
   "outputs": [
    {
     "data": {
      "text/plain": [
       "92"
      ]
     },
     "execution_count": 49,
     "metadata": {},
     "output_type": "execute_result"
    }
   ],
   "source": [
    "_.shape[0]"
   ]
  },
  {
   "cell_type": "code",
   "execution_count": 50,
   "metadata": {},
   "outputs": [
    {
     "data": {
      "text/html": [
       "<div>\n",
       "<style scoped>\n",
       "    .dataframe tbody tr th:only-of-type {\n",
       "        vertical-align: middle;\n",
       "    }\n",
       "\n",
       "    .dataframe tbody tr th {\n",
       "        vertical-align: top;\n",
       "    }\n",
       "\n",
       "    .dataframe thead tr th {\n",
       "        text-align: left;\n",
       "    }\n",
       "\n",
       "    .dataframe thead tr:last-of-type th {\n",
       "        text-align: right;\n",
       "    }\n",
       "</style>\n",
       "<table border=\"1\" class=\"dataframe\">\n",
       "  <thead>\n",
       "    <tr>\n",
       "      <th></th>\n",
       "      <th colspan=\"2\" halign=\"left\">note</th>\n",
       "    </tr>\n",
       "    <tr>\n",
       "      <th></th>\n",
       "      <th>max</th>\n",
       "      <th>min</th>\n",
       "    </tr>\n",
       "    <tr>\n",
       "      <th>quizz</th>\n",
       "      <th></th>\n",
       "      <th></th>\n",
       "    </tr>\n",
       "  </thead>\n",
       "  <tbody>\n",
       "    <tr>\n",
       "      <th>td1</th>\n",
       "      <td>100.0</td>\n",
       "      <td>0.00</td>\n",
       "    </tr>\n",
       "    <tr>\n",
       "      <th>td2</th>\n",
       "      <td>100.0</td>\n",
       "      <td>40.00</td>\n",
       "    </tr>\n",
       "    <tr>\n",
       "      <th>td3</th>\n",
       "      <td>100.0</td>\n",
       "      <td>50.00</td>\n",
       "    </tr>\n",
       "    <tr>\n",
       "      <th>td4</th>\n",
       "      <td>100.0</td>\n",
       "      <td>42.86</td>\n",
       "    </tr>\n",
       "  </tbody>\n",
       "</table>\n",
       "</div>"
      ],
      "text/plain": [
       "        note       \n",
       "         max    min\n",
       "quizz              \n",
       "td1    100.0   0.00\n",
       "td2    100.0  40.00\n",
       "td3    100.0  50.00\n",
       "td4    100.0  42.86"
      ]
     },
     "execution_count": 50,
     "metadata": {},
     "output_type": "execute_result"
    }
   ],
   "source": [
    "df_notes.groupby('quizz').agg({'note': ['max', min]})"
   ]
  },
  {
   "cell_type": "code",
   "execution_count": 51,
   "metadata": {},
   "outputs": [
    {
     "data": {
      "text/plain": [
       "MultiIndex([('note', 'max'),\n",
       "            ('note', 'min')],\n",
       "           )"
      ]
     },
     "execution_count": 51,
     "metadata": {},
     "output_type": "execute_result"
    }
   ],
   "source": [
    "_.columns"
   ]
  },
  {
   "cell_type": "code",
   "execution_count": 52,
   "metadata": {},
   "outputs": [
    {
     "data": {
      "text/html": [
       "<div>\n",
       "<style scoped>\n",
       "    .dataframe tbody tr th:only-of-type {\n",
       "        vertical-align: middle;\n",
       "    }\n",
       "\n",
       "    .dataframe tbody tr th {\n",
       "        vertical-align: top;\n",
       "    }\n",
       "\n",
       "    .dataframe thead th {\n",
       "        text-align: right;\n",
       "    }\n",
       "</style>\n",
       "<table border=\"1\" class=\"dataframe\">\n",
       "  <thead>\n",
       "    <tr style=\"text-align: right;\">\n",
       "      <th></th>\n",
       "      <th>note</th>\n",
       "      <th>groupe</th>\n",
       "      <th>quizz</th>\n",
       "      <th>appreciation</th>\n",
       "    </tr>\n",
       "    <tr>\n",
       "      <th>eleve</th>\n",
       "      <th></th>\n",
       "      <th></th>\n",
       "      <th></th>\n",
       "      <th></th>\n",
       "    </tr>\n",
       "  </thead>\n",
       "  <tbody>\n",
       "    <tr>\n",
       "      <th>Eleve0</th>\n",
       "      <td>[71.43, 80.0, 100.0]</td>\n",
       "      <td>[Unknown, ibo2, ibo2]</td>\n",
       "      <td>[td1, td2, td3]</td>\n",
       "      <td>[Ok, Good, Good]</td>\n",
       "    </tr>\n",
       "    <tr>\n",
       "      <th>Eleve1</th>\n",
       "      <td>[100.0, 100.0, 100.0]</td>\n",
       "      <td>[Unknown, ibo2, ibo2]</td>\n",
       "      <td>[td1, td2, td3]</td>\n",
       "      <td>[Good, Good, Good]</td>\n",
       "    </tr>\n",
       "    <tr>\n",
       "      <th>Eleve10</th>\n",
       "      <td>[100.0, 100.0, 85.71, 71.43]</td>\n",
       "      <td>[ibo7, ibo7, ibo7, ibo7]</td>\n",
       "      <td>[td3, td2, td4, td1]</td>\n",
       "      <td>[Good, Good, Good, Ok]</td>\n",
       "    </tr>\n",
       "    <tr>\n",
       "      <th>Eleve100</th>\n",
       "      <td>[100.0, 100.0, 100.0, 85.71]</td>\n",
       "      <td>[ibo7, ibo7, ibo7, ibo7]</td>\n",
       "      <td>[td3, td2, td4, td1]</td>\n",
       "      <td>[Good, Good, Good, Good]</td>\n",
       "    </tr>\n",
       "    <tr>\n",
       "      <th>Eleve101</th>\n",
       "      <td>[100.0, 100.0, 85.71, 100.0]</td>\n",
       "      <td>[ibo7, ibo7, ibo7, ibo7]</td>\n",
       "      <td>[td3, td2, td4, td1]</td>\n",
       "      <td>[Good, Good, Good, Good]</td>\n",
       "    </tr>\n",
       "    <tr>\n",
       "      <th>...</th>\n",
       "      <td>...</td>\n",
       "      <td>...</td>\n",
       "      <td>...</td>\n",
       "      <td>...</td>\n",
       "    </tr>\n",
       "    <tr>\n",
       "      <th>Eleve95</th>\n",
       "      <td>[85.71, 100.0, 100.0]</td>\n",
       "      <td>[Unknown, ibo2, ibo2]</td>\n",
       "      <td>[td1, td2, td3]</td>\n",
       "      <td>[Good, Good, Good]</td>\n",
       "    </tr>\n",
       "    <tr>\n",
       "      <th>Eleve96</th>\n",
       "      <td>[100.0, 100.0, 100.0, 42.86]</td>\n",
       "      <td>[ibo1, ibo1, ibo1, ibo1]</td>\n",
       "      <td>[td4, td3, td2, td1]</td>\n",
       "      <td>[Good, Good, Good, Bad]</td>\n",
       "    </tr>\n",
       "    <tr>\n",
       "      <th>Eleve97</th>\n",
       "      <td>[28.57, 85.71, 83.33, 60.0]</td>\n",
       "      <td>[Unknown, ibo4, ibo4, ibo4]</td>\n",
       "      <td>[td1, td4, td3, td2]</td>\n",
       "      <td>[Bad, Good, Good, Ok]</td>\n",
       "    </tr>\n",
       "    <tr>\n",
       "      <th>Eleve98</th>\n",
       "      <td>[42.86, 85.71, 100.0, 100.0]</td>\n",
       "      <td>[Unknown, ibo4, ibo4, ibo4]</td>\n",
       "      <td>[td1, td4, td3, td2]</td>\n",
       "      <td>[Bad, Good, Good, Good]</td>\n",
       "    </tr>\n",
       "    <tr>\n",
       "      <th>Eleve99</th>\n",
       "      <td>[71.43, 100.0, 100.0]</td>\n",
       "      <td>[Unknown, ibo2, ibo2]</td>\n",
       "      <td>[td1, td2, td3]</td>\n",
       "      <td>[Ok, Good, Good]</td>\n",
       "    </tr>\n",
       "  </tbody>\n",
       "</table>\n",
       "<p>208 rows × 4 columns</p>\n",
       "</div>"
      ],
      "text/plain": [
       "                                  note                       groupe  \\\n",
       "eleve                                                                 \n",
       "Eleve0            [71.43, 80.0, 100.0]        [Unknown, ibo2, ibo2]   \n",
       "Eleve1           [100.0, 100.0, 100.0]        [Unknown, ibo2, ibo2]   \n",
       "Eleve10   [100.0, 100.0, 85.71, 71.43]     [ibo7, ibo7, ibo7, ibo7]   \n",
       "Eleve100  [100.0, 100.0, 100.0, 85.71]     [ibo7, ibo7, ibo7, ibo7]   \n",
       "Eleve101  [100.0, 100.0, 85.71, 100.0]     [ibo7, ibo7, ibo7, ibo7]   \n",
       "...                                ...                          ...   \n",
       "Eleve95          [85.71, 100.0, 100.0]        [Unknown, ibo2, ibo2]   \n",
       "Eleve96   [100.0, 100.0, 100.0, 42.86]     [ibo1, ibo1, ibo1, ibo1]   \n",
       "Eleve97    [28.57, 85.71, 83.33, 60.0]  [Unknown, ibo4, ibo4, ibo4]   \n",
       "Eleve98   [42.86, 85.71, 100.0, 100.0]  [Unknown, ibo4, ibo4, ibo4]   \n",
       "Eleve99          [71.43, 100.0, 100.0]        [Unknown, ibo2, ibo2]   \n",
       "\n",
       "                         quizz              appreciation  \n",
       "eleve                                                     \n",
       "Eleve0         [td1, td2, td3]          [Ok, Good, Good]  \n",
       "Eleve1         [td1, td2, td3]        [Good, Good, Good]  \n",
       "Eleve10   [td3, td2, td4, td1]    [Good, Good, Good, Ok]  \n",
       "Eleve100  [td3, td2, td4, td1]  [Good, Good, Good, Good]  \n",
       "Eleve101  [td3, td2, td4, td1]  [Good, Good, Good, Good]  \n",
       "...                        ...                       ...  \n",
       "Eleve95        [td1, td2, td3]        [Good, Good, Good]  \n",
       "Eleve96   [td4, td3, td2, td1]   [Good, Good, Good, Bad]  \n",
       "Eleve97   [td1, td4, td3, td2]     [Bad, Good, Good, Ok]  \n",
       "Eleve98   [td1, td4, td3, td2]   [Bad, Good, Good, Good]  \n",
       "Eleve99        [td1, td2, td3]          [Ok, Good, Good]  \n",
       "\n",
       "[208 rows x 4 columns]"
      ]
     },
     "execution_count": 52,
     "metadata": {},
     "output_type": "execute_result"
    }
   ],
   "source": [
    "df_notes.groupby('eleve').agg(list)\n",
    "# applied on all columns (where the function can be used on) for each subset"
   ]
  },
  {
   "cell_type": "code",
   "execution_count": 53,
   "metadata": {},
   "outputs": [
    {
     "data": {
      "text/html": [
       "<div>\n",
       "<style scoped>\n",
       "    .dataframe tbody tr th:only-of-type {\n",
       "        vertical-align: middle;\n",
       "    }\n",
       "\n",
       "    .dataframe tbody tr th {\n",
       "        vertical-align: top;\n",
       "    }\n",
       "\n",
       "    .dataframe thead th {\n",
       "        text-align: right;\n",
       "    }\n",
       "</style>\n",
       "<table border=\"1\" class=\"dataframe\">\n",
       "  <thead>\n",
       "    <tr style=\"text-align: right;\">\n",
       "      <th></th>\n",
       "      <th>eleve</th>\n",
       "      <th>note</th>\n",
       "      <th>groupe</th>\n",
       "      <th>quizz</th>\n",
       "      <th>appreciation</th>\n",
       "    </tr>\n",
       "  </thead>\n",
       "  <tbody>\n",
       "    <tr>\n",
       "      <th>0</th>\n",
       "      <td>Eleve0</td>\n",
       "      <td>71.43</td>\n",
       "      <td>Unknown</td>\n",
       "      <td>td1</td>\n",
       "      <td>Ok</td>\n",
       "    </tr>\n",
       "    <tr>\n",
       "      <th>1</th>\n",
       "      <td>Eleve1</td>\n",
       "      <td>100.00</td>\n",
       "      <td>Unknown</td>\n",
       "      <td>td1</td>\n",
       "      <td>Good</td>\n",
       "    </tr>\n",
       "    <tr>\n",
       "      <th>2</th>\n",
       "      <td>Eleve4</td>\n",
       "      <td>71.43</td>\n",
       "      <td>Unknown</td>\n",
       "      <td>td1</td>\n",
       "      <td>Ok</td>\n",
       "    </tr>\n",
       "    <tr>\n",
       "      <th>3</th>\n",
       "      <td>Eleve6</td>\n",
       "      <td>42.86</td>\n",
       "      <td>Unknown</td>\n",
       "      <td>td1</td>\n",
       "      <td>Bad</td>\n",
       "    </tr>\n",
       "    <tr>\n",
       "      <th>4</th>\n",
       "      <td>Eleve8</td>\n",
       "      <td>57.14</td>\n",
       "      <td>Unknown</td>\n",
       "      <td>td1</td>\n",
       "      <td>Ok</td>\n",
       "    </tr>\n",
       "    <tr>\n",
       "      <th>...</th>\n",
       "      <td>...</td>\n",
       "      <td>...</td>\n",
       "      <td>...</td>\n",
       "      <td>...</td>\n",
       "      <td>...</td>\n",
       "    </tr>\n",
       "    <tr>\n",
       "      <th>741</th>\n",
       "      <td>Eleve174</td>\n",
       "      <td>100.00</td>\n",
       "      <td>ibo5</td>\n",
       "      <td>td3</td>\n",
       "      <td>Good</td>\n",
       "    </tr>\n",
       "    <tr>\n",
       "      <th>742</th>\n",
       "      <td>Eleve166</td>\n",
       "      <td>66.67</td>\n",
       "      <td>ibo5</td>\n",
       "      <td>td3</td>\n",
       "      <td>Ok</td>\n",
       "    </tr>\n",
       "    <tr>\n",
       "      <th>743</th>\n",
       "      <td>Eleve176</td>\n",
       "      <td>83.33</td>\n",
       "      <td>ibo5</td>\n",
       "      <td>td3</td>\n",
       "      <td>Good</td>\n",
       "    </tr>\n",
       "    <tr>\n",
       "      <th>744</th>\n",
       "      <td>Eleve186</td>\n",
       "      <td>100.00</td>\n",
       "      <td>ibo5</td>\n",
       "      <td>td3</td>\n",
       "      <td>Good</td>\n",
       "    </tr>\n",
       "    <tr>\n",
       "      <th>745</th>\n",
       "      <td>Eleve196</td>\n",
       "      <td>66.67</td>\n",
       "      <td>ibo5</td>\n",
       "      <td>td3</td>\n",
       "      <td>Ok</td>\n",
       "    </tr>\n",
       "  </tbody>\n",
       "</table>\n",
       "<p>746 rows × 5 columns</p>\n",
       "</div>"
      ],
      "text/plain": [
       "        eleve    note   groupe quizz appreciation\n",
       "0      Eleve0   71.43  Unknown   td1           Ok\n",
       "1      Eleve1  100.00  Unknown   td1         Good\n",
       "2      Eleve4   71.43  Unknown   td1           Ok\n",
       "3      Eleve6   42.86  Unknown   td1          Bad\n",
       "4      Eleve8   57.14  Unknown   td1           Ok\n",
       "..        ...     ...      ...   ...          ...\n",
       "741  Eleve174  100.00     ibo5   td3         Good\n",
       "742  Eleve166   66.67     ibo5   td3           Ok\n",
       "743  Eleve176   83.33     ibo5   td3         Good\n",
       "744  Eleve186  100.00     ibo5   td3         Good\n",
       "745  Eleve196   66.67     ibo5   td3           Ok\n",
       "\n",
       "[746 rows x 5 columns]"
      ]
     },
     "execution_count": 53,
     "metadata": {},
     "output_type": "execute_result"
    }
   ],
   "source": [
    "df_notes"
   ]
  },
  {
   "cell_type": "code",
   "execution_count": 54,
   "metadata": {},
   "outputs": [
    {
     "ename": "NameError",
     "evalue": "name 'np' is not defined",
     "output_type": "error",
     "traceback": [
      "\u001b[1;31m---------------------------------------------------------------------------\u001b[0m",
      "\u001b[1;31mNameError\u001b[0m                                 Traceback (most recent call last)",
      "\u001b[1;32m<ipython-input-54-235c7e66622f>\u001b[0m in \u001b[0;36m<module>\u001b[1;34m\u001b[0m\n\u001b[1;32m----> 1\u001b[1;33m \u001b[0mdf_notes\u001b[0m\u001b[1;33m.\u001b[0m\u001b[0mreplace\u001b[0m\u001b[1;33m(\u001b[0m\u001b[1;33m{\u001b[0m\u001b[1;34m\"Unknown\"\u001b[0m\u001b[1;33m:\u001b[0m\u001b[0mnp\u001b[0m\u001b[1;33m.\u001b[0m\u001b[0mnan\u001b[0m\u001b[1;33m}\u001b[0m\u001b[1;33m,\u001b[0m \u001b[0minplace\u001b[0m\u001b[1;33m=\u001b[0m\u001b[1;32mTrue\u001b[0m\u001b[1;33m)\u001b[0m\u001b[1;33m\u001b[0m\u001b[1;33m\u001b[0m\u001b[0m\n\u001b[0m",
      "\u001b[1;31mNameError\u001b[0m: name 'np' is not defined"
     ]
    }
   ],
   "source": [
    "df_notes.replace({\"Unknown\":np.nan}, inplace=True)"
   ]
  },
  {
   "cell_type": "code",
   "execution_count": 55,
   "metadata": {},
   "outputs": [],
   "source": [
    "import numpy as np\n"
   ]
  },
  {
   "cell_type": "code",
   "execution_count": 56,
   "metadata": {},
   "outputs": [],
   "source": [
    "df_notes.replace({\"Unknown\":np.nan}, inplace=True)"
   ]
  },
  {
   "cell_type": "code",
   "execution_count": 57,
   "metadata": {},
   "outputs": [],
   "source": [
    "df_notes[\"groupe\"] = df_notes.groupby('eleve')['groupe'].transform(lambda x: x.bfill().ffill())\n"
   ]
  },
  {
   "cell_type": "code",
   "execution_count": 58,
   "metadata": {},
   "outputs": [
    {
     "data": {
      "text/html": [
       "<div>\n",
       "<style scoped>\n",
       "    .dataframe tbody tr th:only-of-type {\n",
       "        vertical-align: middle;\n",
       "    }\n",
       "\n",
       "    .dataframe tbody tr th {\n",
       "        vertical-align: top;\n",
       "    }\n",
       "\n",
       "    .dataframe thead th {\n",
       "        text-align: right;\n",
       "    }\n",
       "</style>\n",
       "<table border=\"1\" class=\"dataframe\">\n",
       "  <thead>\n",
       "    <tr style=\"text-align: right;\">\n",
       "      <th></th>\n",
       "      <th>note</th>\n",
       "      <th>groupe</th>\n",
       "      <th>quizz</th>\n",
       "      <th>appreciation</th>\n",
       "    </tr>\n",
       "    <tr>\n",
       "      <th>eleve</th>\n",
       "      <th></th>\n",
       "      <th></th>\n",
       "      <th></th>\n",
       "      <th></th>\n",
       "    </tr>\n",
       "  </thead>\n",
       "  <tbody>\n",
       "    <tr>\n",
       "      <th>Eleve0</th>\n",
       "      <td>[71.43, 80.0, 100.0]</td>\n",
       "      <td>[ibo2, ibo2, ibo2]</td>\n",
       "      <td>[td1, td2, td3]</td>\n",
       "      <td>[Ok, Good, Good]</td>\n",
       "    </tr>\n",
       "    <tr>\n",
       "      <th>Eleve1</th>\n",
       "      <td>[100.0, 100.0, 100.0]</td>\n",
       "      <td>[ibo2, ibo2, ibo2]</td>\n",
       "      <td>[td1, td2, td3]</td>\n",
       "      <td>[Good, Good, Good]</td>\n",
       "    </tr>\n",
       "    <tr>\n",
       "      <th>Eleve10</th>\n",
       "      <td>[100.0, 100.0, 85.71, 71.43]</td>\n",
       "      <td>[ibo7, ibo7, ibo7, ibo7]</td>\n",
       "      <td>[td3, td2, td4, td1]</td>\n",
       "      <td>[Good, Good, Good, Ok]</td>\n",
       "    </tr>\n",
       "    <tr>\n",
       "      <th>Eleve100</th>\n",
       "      <td>[100.0, 100.0, 100.0, 85.71]</td>\n",
       "      <td>[ibo7, ibo7, ibo7, ibo7]</td>\n",
       "      <td>[td3, td2, td4, td1]</td>\n",
       "      <td>[Good, Good, Good, Good]</td>\n",
       "    </tr>\n",
       "    <tr>\n",
       "      <th>Eleve101</th>\n",
       "      <td>[100.0, 100.0, 85.71, 100.0]</td>\n",
       "      <td>[ibo7, ibo7, ibo7, ibo7]</td>\n",
       "      <td>[td3, td2, td4, td1]</td>\n",
       "      <td>[Good, Good, Good, Good]</td>\n",
       "    </tr>\n",
       "    <tr>\n",
       "      <th>...</th>\n",
       "      <td>...</td>\n",
       "      <td>...</td>\n",
       "      <td>...</td>\n",
       "      <td>...</td>\n",
       "    </tr>\n",
       "    <tr>\n",
       "      <th>Eleve95</th>\n",
       "      <td>[85.71, 100.0, 100.0]</td>\n",
       "      <td>[ibo2, ibo2, ibo2]</td>\n",
       "      <td>[td1, td2, td3]</td>\n",
       "      <td>[Good, Good, Good]</td>\n",
       "    </tr>\n",
       "    <tr>\n",
       "      <th>Eleve96</th>\n",
       "      <td>[100.0, 100.0, 100.0, 42.86]</td>\n",
       "      <td>[ibo1, ibo1, ibo1, ibo1]</td>\n",
       "      <td>[td4, td3, td2, td1]</td>\n",
       "      <td>[Good, Good, Good, Bad]</td>\n",
       "    </tr>\n",
       "    <tr>\n",
       "      <th>Eleve97</th>\n",
       "      <td>[28.57, 85.71, 83.33, 60.0]</td>\n",
       "      <td>[ibo4, ibo4, ibo4, ibo4]</td>\n",
       "      <td>[td1, td4, td3, td2]</td>\n",
       "      <td>[Bad, Good, Good, Ok]</td>\n",
       "    </tr>\n",
       "    <tr>\n",
       "      <th>Eleve98</th>\n",
       "      <td>[42.86, 85.71, 100.0, 100.0]</td>\n",
       "      <td>[ibo4, ibo4, ibo4, ibo4]</td>\n",
       "      <td>[td1, td4, td3, td2]</td>\n",
       "      <td>[Bad, Good, Good, Good]</td>\n",
       "    </tr>\n",
       "    <tr>\n",
       "      <th>Eleve99</th>\n",
       "      <td>[71.43, 100.0, 100.0]</td>\n",
       "      <td>[ibo2, ibo2, ibo2]</td>\n",
       "      <td>[td1, td2, td3]</td>\n",
       "      <td>[Ok, Good, Good]</td>\n",
       "    </tr>\n",
       "  </tbody>\n",
       "</table>\n",
       "<p>208 rows × 4 columns</p>\n",
       "</div>"
      ],
      "text/plain": [
       "                                  note                    groupe  \\\n",
       "eleve                                                              \n",
       "Eleve0            [71.43, 80.0, 100.0]        [ibo2, ibo2, ibo2]   \n",
       "Eleve1           [100.0, 100.0, 100.0]        [ibo2, ibo2, ibo2]   \n",
       "Eleve10   [100.0, 100.0, 85.71, 71.43]  [ibo7, ibo7, ibo7, ibo7]   \n",
       "Eleve100  [100.0, 100.0, 100.0, 85.71]  [ibo7, ibo7, ibo7, ibo7]   \n",
       "Eleve101  [100.0, 100.0, 85.71, 100.0]  [ibo7, ibo7, ibo7, ibo7]   \n",
       "...                                ...                       ...   \n",
       "Eleve95          [85.71, 100.0, 100.0]        [ibo2, ibo2, ibo2]   \n",
       "Eleve96   [100.0, 100.0, 100.0, 42.86]  [ibo1, ibo1, ibo1, ibo1]   \n",
       "Eleve97    [28.57, 85.71, 83.33, 60.0]  [ibo4, ibo4, ibo4, ibo4]   \n",
       "Eleve98   [42.86, 85.71, 100.0, 100.0]  [ibo4, ibo4, ibo4, ibo4]   \n",
       "Eleve99          [71.43, 100.0, 100.0]        [ibo2, ibo2, ibo2]   \n",
       "\n",
       "                         quizz              appreciation  \n",
       "eleve                                                     \n",
       "Eleve0         [td1, td2, td3]          [Ok, Good, Good]  \n",
       "Eleve1         [td1, td2, td3]        [Good, Good, Good]  \n",
       "Eleve10   [td3, td2, td4, td1]    [Good, Good, Good, Ok]  \n",
       "Eleve100  [td3, td2, td4, td1]  [Good, Good, Good, Good]  \n",
       "Eleve101  [td3, td2, td4, td1]  [Good, Good, Good, Good]  \n",
       "...                        ...                       ...  \n",
       "Eleve95        [td1, td2, td3]        [Good, Good, Good]  \n",
       "Eleve96   [td4, td3, td2, td1]   [Good, Good, Good, Bad]  \n",
       "Eleve97   [td1, td4, td3, td2]     [Bad, Good, Good, Ok]  \n",
       "Eleve98   [td1, td4, td3, td2]   [Bad, Good, Good, Good]  \n",
       "Eleve99        [td1, td2, td3]          [Ok, Good, Good]  \n",
       "\n",
       "[208 rows x 4 columns]"
      ]
     },
     "execution_count": 58,
     "metadata": {},
     "output_type": "execute_result"
    }
   ],
   "source": [
    "df_notes.groupby('eleve').agg(list)"
   ]
  },
  {
   "cell_type": "code",
   "execution_count": 59,
   "metadata": {},
   "outputs": [
    {
     "data": {
      "text/html": [
       "<div>\n",
       "<style scoped>\n",
       "    .dataframe tbody tr th:only-of-type {\n",
       "        vertical-align: middle;\n",
       "    }\n",
       "\n",
       "    .dataframe tbody tr th {\n",
       "        vertical-align: top;\n",
       "    }\n",
       "\n",
       "    .dataframe thead th {\n",
       "        text-align: right;\n",
       "    }\n",
       "</style>\n",
       "<table border=\"1\" class=\"dataframe\">\n",
       "  <thead>\n",
       "    <tr style=\"text-align: right;\">\n",
       "      <th>quizz</th>\n",
       "      <th>td1</th>\n",
       "      <th>td2</th>\n",
       "      <th>td3</th>\n",
       "      <th>td4</th>\n",
       "    </tr>\n",
       "    <tr>\n",
       "      <th>groupe</th>\n",
       "      <th></th>\n",
       "      <th></th>\n",
       "      <th></th>\n",
       "      <th></th>\n",
       "    </tr>\n",
       "  </thead>\n",
       "  <tbody>\n",
       "    <tr>\n",
       "      <th>ibo1</th>\n",
       "      <td>67.618000</td>\n",
       "      <td>94.666667</td>\n",
       "      <td>90.739630</td>\n",
       "      <td>96.666333</td>\n",
       "    </tr>\n",
       "    <tr>\n",
       "      <th>ibo2</th>\n",
       "      <td>76.846207</td>\n",
       "      <td>98.666667</td>\n",
       "      <td>95.678148</td>\n",
       "      <td>NaN</td>\n",
       "    </tr>\n",
       "    <tr>\n",
       "      <th>ibo3</th>\n",
       "      <td>40.002000</td>\n",
       "      <td>88.666667</td>\n",
       "      <td>88.887037</td>\n",
       "      <td>81.630357</td>\n",
       "    </tr>\n",
       "    <tr>\n",
       "      <th>ibo4</th>\n",
       "      <td>56.632500</td>\n",
       "      <td>87.407407</td>\n",
       "      <td>87.500000</td>\n",
       "      <td>89.009231</td>\n",
       "    </tr>\n",
       "    <tr>\n",
       "      <th>ibo5</th>\n",
       "      <td>53.967407</td>\n",
       "      <td>90.000000</td>\n",
       "      <td>90.475714</td>\n",
       "      <td>84.759667</td>\n",
       "    </tr>\n",
       "    <tr>\n",
       "      <th>ibo6</th>\n",
       "      <td>61.427667</td>\n",
       "      <td>90.344828</td>\n",
       "      <td>83.332857</td>\n",
       "      <td>76.529286</td>\n",
       "    </tr>\n",
       "    <tr>\n",
       "      <th>ibo7</th>\n",
       "      <td>74.875517</td>\n",
       "      <td>85.714286</td>\n",
       "      <td>94.642500</td>\n",
       "      <td>90.637931</td>\n",
       "    </tr>\n",
       "  </tbody>\n",
       "</table>\n",
       "</div>"
      ],
      "text/plain": [
       "quizz         td1        td2        td3        td4\n",
       "groupe                                            \n",
       "ibo1    67.618000  94.666667  90.739630  96.666333\n",
       "ibo2    76.846207  98.666667  95.678148        NaN\n",
       "ibo3    40.002000  88.666667  88.887037  81.630357\n",
       "ibo4    56.632500  87.407407  87.500000  89.009231\n",
       "ibo5    53.967407  90.000000  90.475714  84.759667\n",
       "ibo6    61.427667  90.344828  83.332857  76.529286\n",
       "ibo7    74.875517  85.714286  94.642500  90.637931"
      ]
     },
     "execution_count": 59,
     "metadata": {},
     "output_type": "execute_result"
    }
   ],
   "source": [
    "df_notes.groupby(['groupe', 'quizz'])[\"note\"].mean().unstack()"
   ]
  },
  {
   "cell_type": "code",
   "execution_count": 60,
   "metadata": {},
   "outputs": [
    {
     "data": {
      "text/html": [
       "<div>\n",
       "<style scoped>\n",
       "    .dataframe tbody tr th:only-of-type {\n",
       "        vertical-align: middle;\n",
       "    }\n",
       "\n",
       "    .dataframe tbody tr th {\n",
       "        vertical-align: top;\n",
       "    }\n",
       "\n",
       "    .dataframe thead th {\n",
       "        text-align: right;\n",
       "    }\n",
       "</style>\n",
       "<table border=\"1\" class=\"dataframe\">\n",
       "  <thead>\n",
       "    <tr style=\"text-align: right;\">\n",
       "      <th></th>\n",
       "      <th>eleve</th>\n",
       "      <th>note</th>\n",
       "      <th>groupe</th>\n",
       "      <th>quizz</th>\n",
       "      <th>appreciation</th>\n",
       "    </tr>\n",
       "  </thead>\n",
       "  <tbody>\n",
       "  </tbody>\n",
       "</table>\n",
       "</div>"
      ],
      "text/plain": [
       "Empty DataFrame\n",
       "Columns: [eleve, note, groupe, quizz, appreciation]\n",
       "Index: []"
      ]
     },
     "execution_count": 60,
     "metadata": {},
     "output_type": "execute_result"
    }
   ],
   "source": [
    "df_notes[(df_notes.groupe == 'ibo2') & (df_notes.quizz == 'td4')]"
   ]
  },
  {
   "cell_type": "code",
   "execution_count": 61,
   "metadata": {},
   "outputs": [],
   "source": [
    "df_notes = df_notes[~(df_notes.quizz=='td4')]"
   ]
  },
  {
   "cell_type": "code",
   "execution_count": 62,
   "metadata": {},
   "outputs": [
    {
     "data": {
      "text/html": [
       "<div>\n",
       "<style scoped>\n",
       "    .dataframe tbody tr th:only-of-type {\n",
       "        vertical-align: middle;\n",
       "    }\n",
       "\n",
       "    .dataframe tbody tr th {\n",
       "        vertical-align: top;\n",
       "    }\n",
       "\n",
       "    .dataframe thead th {\n",
       "        text-align: right;\n",
       "    }\n",
       "</style>\n",
       "<table border=\"1\" class=\"dataframe\">\n",
       "  <thead>\n",
       "    <tr style=\"text-align: right;\">\n",
       "      <th></th>\n",
       "      <th>eleve</th>\n",
       "      <th>note</th>\n",
       "      <th>groupe</th>\n",
       "      <th>quizz</th>\n",
       "      <th>appreciation</th>\n",
       "    </tr>\n",
       "  </thead>\n",
       "  <tbody>\n",
       "    <tr>\n",
       "      <th>0</th>\n",
       "      <td>Eleve0</td>\n",
       "      <td>71.43</td>\n",
       "      <td>ibo2</td>\n",
       "      <td>td1</td>\n",
       "      <td>Ok</td>\n",
       "    </tr>\n",
       "    <tr>\n",
       "      <th>1</th>\n",
       "      <td>Eleve1</td>\n",
       "      <td>100.00</td>\n",
       "      <td>ibo2</td>\n",
       "      <td>td1</td>\n",
       "      <td>Good</td>\n",
       "    </tr>\n",
       "    <tr>\n",
       "      <th>2</th>\n",
       "      <td>Eleve4</td>\n",
       "      <td>71.43</td>\n",
       "      <td>ibo2</td>\n",
       "      <td>td1</td>\n",
       "      <td>Ok</td>\n",
       "    </tr>\n",
       "    <tr>\n",
       "      <th>3</th>\n",
       "      <td>Eleve6</td>\n",
       "      <td>42.86</td>\n",
       "      <td>ibo6</td>\n",
       "      <td>td1</td>\n",
       "      <td>Bad</td>\n",
       "    </tr>\n",
       "    <tr>\n",
       "      <th>4</th>\n",
       "      <td>Eleve8</td>\n",
       "      <td>57.14</td>\n",
       "      <td>ibo4</td>\n",
       "      <td>td1</td>\n",
       "      <td>Ok</td>\n",
       "    </tr>\n",
       "    <tr>\n",
       "      <th>...</th>\n",
       "      <td>...</td>\n",
       "      <td>...</td>\n",
       "      <td>...</td>\n",
       "      <td>...</td>\n",
       "      <td>...</td>\n",
       "    </tr>\n",
       "    <tr>\n",
       "      <th>741</th>\n",
       "      <td>Eleve174</td>\n",
       "      <td>100.00</td>\n",
       "      <td>ibo5</td>\n",
       "      <td>td3</td>\n",
       "      <td>Good</td>\n",
       "    </tr>\n",
       "    <tr>\n",
       "      <th>742</th>\n",
       "      <td>Eleve166</td>\n",
       "      <td>66.67</td>\n",
       "      <td>ibo5</td>\n",
       "      <td>td3</td>\n",
       "      <td>Ok</td>\n",
       "    </tr>\n",
       "    <tr>\n",
       "      <th>743</th>\n",
       "      <td>Eleve176</td>\n",
       "      <td>83.33</td>\n",
       "      <td>ibo5</td>\n",
       "      <td>td3</td>\n",
       "      <td>Good</td>\n",
       "    </tr>\n",
       "    <tr>\n",
       "      <th>744</th>\n",
       "      <td>Eleve186</td>\n",
       "      <td>100.00</td>\n",
       "      <td>ibo5</td>\n",
       "      <td>td3</td>\n",
       "      <td>Good</td>\n",
       "    </tr>\n",
       "    <tr>\n",
       "      <th>745</th>\n",
       "      <td>Eleve196</td>\n",
       "      <td>66.67</td>\n",
       "      <td>ibo5</td>\n",
       "      <td>td3</td>\n",
       "      <td>Ok</td>\n",
       "    </tr>\n",
       "  </tbody>\n",
       "</table>\n",
       "<p>575 rows × 5 columns</p>\n",
       "</div>"
      ],
      "text/plain": [
       "        eleve    note groupe quizz appreciation\n",
       "0      Eleve0   71.43   ibo2   td1           Ok\n",
       "1      Eleve1  100.00   ibo2   td1         Good\n",
       "2      Eleve4   71.43   ibo2   td1           Ok\n",
       "3      Eleve6   42.86   ibo6   td1          Bad\n",
       "4      Eleve8   57.14   ibo4   td1           Ok\n",
       "..        ...     ...    ...   ...          ...\n",
       "741  Eleve174  100.00   ibo5   td3         Good\n",
       "742  Eleve166   66.67   ibo5   td3           Ok\n",
       "743  Eleve176   83.33   ibo5   td3         Good\n",
       "744  Eleve186  100.00   ibo5   td3         Good\n",
       "745  Eleve196   66.67   ibo5   td3           Ok\n",
       "\n",
       "[575 rows x 5 columns]"
      ]
     },
     "execution_count": 62,
     "metadata": {},
     "output_type": "execute_result"
    }
   ],
   "source": [
    "df_notes\n"
   ]
  },
  {
   "cell_type": "code",
   "execution_count": 63,
   "metadata": {},
   "outputs": [
    {
     "data": {
      "text/html": [
       "<div>\n",
       "<style scoped>\n",
       "    .dataframe tbody tr th:only-of-type {\n",
       "        vertical-align: middle;\n",
       "    }\n",
       "\n",
       "    .dataframe tbody tr th {\n",
       "        vertical-align: top;\n",
       "    }\n",
       "\n",
       "    .dataframe thead th {\n",
       "        text-align: right;\n",
       "    }\n",
       "</style>\n",
       "<table border=\"1\" class=\"dataframe\">\n",
       "  <thead>\n",
       "    <tr style=\"text-align: right;\">\n",
       "      <th>quizz</th>\n",
       "      <th>td1</th>\n",
       "      <th>td2</th>\n",
       "      <th>td3</th>\n",
       "    </tr>\n",
       "    <tr>\n",
       "      <th>groupe</th>\n",
       "      <th></th>\n",
       "      <th></th>\n",
       "      <th></th>\n",
       "    </tr>\n",
       "  </thead>\n",
       "  <tbody>\n",
       "    <tr>\n",
       "      <th>ibo1</th>\n",
       "      <td>67.618000</td>\n",
       "      <td>94.666667</td>\n",
       "      <td>90.739630</td>\n",
       "    </tr>\n",
       "    <tr>\n",
       "      <th>ibo2</th>\n",
       "      <td>76.846207</td>\n",
       "      <td>98.666667</td>\n",
       "      <td>95.678148</td>\n",
       "    </tr>\n",
       "    <tr>\n",
       "      <th>ibo3</th>\n",
       "      <td>40.002000</td>\n",
       "      <td>88.666667</td>\n",
       "      <td>88.887037</td>\n",
       "    </tr>\n",
       "    <tr>\n",
       "      <th>ibo4</th>\n",
       "      <td>56.632500</td>\n",
       "      <td>87.407407</td>\n",
       "      <td>87.500000</td>\n",
       "    </tr>\n",
       "    <tr>\n",
       "      <th>ibo5</th>\n",
       "      <td>53.967407</td>\n",
       "      <td>90.000000</td>\n",
       "      <td>90.475714</td>\n",
       "    </tr>\n",
       "    <tr>\n",
       "      <th>ibo6</th>\n",
       "      <td>61.427667</td>\n",
       "      <td>90.344828</td>\n",
       "      <td>83.332857</td>\n",
       "    </tr>\n",
       "    <tr>\n",
       "      <th>ibo7</th>\n",
       "      <td>74.875517</td>\n",
       "      <td>85.714286</td>\n",
       "      <td>94.642500</td>\n",
       "    </tr>\n",
       "  </tbody>\n",
       "</table>\n",
       "</div>"
      ],
      "text/plain": [
       "quizz         td1        td2        td3\n",
       "groupe                                 \n",
       "ibo1    67.618000  94.666667  90.739630\n",
       "ibo2    76.846207  98.666667  95.678148\n",
       "ibo3    40.002000  88.666667  88.887037\n",
       "ibo4    56.632500  87.407407  87.500000\n",
       "ibo5    53.967407  90.000000  90.475714\n",
       "ibo6    61.427667  90.344828  83.332857\n",
       "ibo7    74.875517  85.714286  94.642500"
      ]
     },
     "execution_count": 63,
     "metadata": {},
     "output_type": "execute_result"
    }
   ],
   "source": [
    "df_notes.groupby(['groupe', 'quizz'])[\"note\"].mean().unstack()"
   ]
  },
  {
   "cell_type": "code",
   "execution_count": 64,
   "metadata": {},
   "outputs": [
    {
     "data": {
      "text/html": [
       "<div>\n",
       "<style scoped>\n",
       "    .dataframe tbody tr th:only-of-type {\n",
       "        vertical-align: middle;\n",
       "    }\n",
       "\n",
       "    .dataframe tbody tr th {\n",
       "        vertical-align: top;\n",
       "    }\n",
       "\n",
       "    .dataframe thead th {\n",
       "        text-align: right;\n",
       "    }\n",
       "</style>\n",
       "<table border=\"1\" class=\"dataframe\">\n",
       "  <thead>\n",
       "    <tr style=\"text-align: right;\">\n",
       "      <th>quizz</th>\n",
       "      <th>td1</th>\n",
       "      <th>td2</th>\n",
       "      <th>td3</th>\n",
       "      <th>All</th>\n",
       "    </tr>\n",
       "    <tr>\n",
       "      <th>groupe</th>\n",
       "      <th></th>\n",
       "      <th></th>\n",
       "      <th></th>\n",
       "      <th></th>\n",
       "    </tr>\n",
       "  </thead>\n",
       "  <tbody>\n",
       "    <tr>\n",
       "      <th>ibo1</th>\n",
       "      <td>67.618000</td>\n",
       "      <td>94.666667</td>\n",
       "      <td>90.739630</td>\n",
       "      <td>84.120805</td>\n",
       "    </tr>\n",
       "    <tr>\n",
       "      <th>ibo2</th>\n",
       "      <td>76.846207</td>\n",
       "      <td>98.666667</td>\n",
       "      <td>95.678148</td>\n",
       "      <td>90.370349</td>\n",
       "    </tr>\n",
       "    <tr>\n",
       "      <th>ibo3</th>\n",
       "      <td>40.002000</td>\n",
       "      <td>88.666667</td>\n",
       "      <td>88.887037</td>\n",
       "      <td>84.838065</td>\n",
       "    </tr>\n",
       "    <tr>\n",
       "      <th>ibo4</th>\n",
       "      <td>56.632500</td>\n",
       "      <td>87.407407</td>\n",
       "      <td>87.500000</td>\n",
       "      <td>77.056747</td>\n",
       "    </tr>\n",
       "    <tr>\n",
       "      <th>ibo5</th>\n",
       "      <td>53.967407</td>\n",
       "      <td>90.000000</td>\n",
       "      <td>90.475714</td>\n",
       "      <td>78.711059</td>\n",
       "    </tr>\n",
       "    <tr>\n",
       "      <th>ibo6</th>\n",
       "      <td>61.427667</td>\n",
       "      <td>90.344828</td>\n",
       "      <td>83.332857</td>\n",
       "      <td>78.116667</td>\n",
       "    </tr>\n",
       "    <tr>\n",
       "      <th>ibo7</th>\n",
       "      <td>74.875517</td>\n",
       "      <td>85.714286</td>\n",
       "      <td>94.642500</td>\n",
       "      <td>84.957412</td>\n",
       "    </tr>\n",
       "    <tr>\n",
       "      <th>All</th>\n",
       "      <td>64.686180</td>\n",
       "      <td>90.882353</td>\n",
       "      <td>90.154715</td>\n",
       "      <td>82.528696</td>\n",
       "    </tr>\n",
       "  </tbody>\n",
       "</table>\n",
       "</div>"
      ],
      "text/plain": [
       "quizz         td1        td2        td3        All\n",
       "groupe                                            \n",
       "ibo1    67.618000  94.666667  90.739630  84.120805\n",
       "ibo2    76.846207  98.666667  95.678148  90.370349\n",
       "ibo3    40.002000  88.666667  88.887037  84.838065\n",
       "ibo4    56.632500  87.407407  87.500000  77.056747\n",
       "ibo5    53.967407  90.000000  90.475714  78.711059\n",
       "ibo6    61.427667  90.344828  83.332857  78.116667\n",
       "ibo7    74.875517  85.714286  94.642500  84.957412\n",
       "All     64.686180  90.882353  90.154715  82.528696"
      ]
     },
     "execution_count": 64,
     "metadata": {},
     "output_type": "execute_result"
    }
   ],
   "source": [
    "df_notes.pivot_table('note', index='groupe', columns='quizz', margins=True)"
   ]
  },
  {
   "cell_type": "code",
   "execution_count": 65,
   "metadata": {},
   "outputs": [
    {
     "data": {
      "text/html": [
       "<div>\n",
       "<style scoped>\n",
       "    .dataframe tbody tr th:only-of-type {\n",
       "        vertical-align: middle;\n",
       "    }\n",
       "\n",
       "    .dataframe tbody tr th {\n",
       "        vertical-align: top;\n",
       "    }\n",
       "\n",
       "    .dataframe thead tr th {\n",
       "        text-align: left;\n",
       "    }\n",
       "\n",
       "    .dataframe thead tr:last-of-type th {\n",
       "        text-align: right;\n",
       "    }\n",
       "</style>\n",
       "<table border=\"1\" class=\"dataframe\">\n",
       "  <thead>\n",
       "    <tr>\n",
       "      <th></th>\n",
       "      <th colspan=\"6\" halign=\"left\">note</th>\n",
       "    </tr>\n",
       "    <tr>\n",
       "      <th></th>\n",
       "      <th colspan=\"3\" halign=\"left\">max</th>\n",
       "      <th colspan=\"3\" halign=\"left\">min</th>\n",
       "    </tr>\n",
       "    <tr>\n",
       "      <th>quizz</th>\n",
       "      <th>td1</th>\n",
       "      <th>td2</th>\n",
       "      <th>td3</th>\n",
       "      <th>td1</th>\n",
       "      <th>td2</th>\n",
       "      <th>td3</th>\n",
       "    </tr>\n",
       "    <tr>\n",
       "      <th>groupe</th>\n",
       "      <th></th>\n",
       "      <th></th>\n",
       "      <th></th>\n",
       "      <th></th>\n",
       "      <th></th>\n",
       "      <th></th>\n",
       "    </tr>\n",
       "  </thead>\n",
       "  <tbody>\n",
       "    <tr>\n",
       "      <th>ibo1</th>\n",
       "      <td>100.00</td>\n",
       "      <td>100.0</td>\n",
       "      <td>100.0</td>\n",
       "      <td>28.57</td>\n",
       "      <td>80.0</td>\n",
       "      <td>50.00</td>\n",
       "    </tr>\n",
       "    <tr>\n",
       "      <th>ibo2</th>\n",
       "      <td>100.00</td>\n",
       "      <td>100.0</td>\n",
       "      <td>100.0</td>\n",
       "      <td>42.86</td>\n",
       "      <td>80.0</td>\n",
       "      <td>83.33</td>\n",
       "    </tr>\n",
       "    <tr>\n",
       "      <th>ibo3</th>\n",
       "      <td>57.14</td>\n",
       "      <td>100.0</td>\n",
       "      <td>100.0</td>\n",
       "      <td>14.29</td>\n",
       "      <td>40.0</td>\n",
       "      <td>66.67</td>\n",
       "    </tr>\n",
       "    <tr>\n",
       "      <th>ibo4</th>\n",
       "      <td>100.00</td>\n",
       "      <td>100.0</td>\n",
       "      <td>100.0</td>\n",
       "      <td>0.00</td>\n",
       "      <td>40.0</td>\n",
       "      <td>66.67</td>\n",
       "    </tr>\n",
       "    <tr>\n",
       "      <th>ibo5</th>\n",
       "      <td>85.71</td>\n",
       "      <td>100.0</td>\n",
       "      <td>100.0</td>\n",
       "      <td>0.00</td>\n",
       "      <td>60.0</td>\n",
       "      <td>50.00</td>\n",
       "    </tr>\n",
       "    <tr>\n",
       "      <th>ibo6</th>\n",
       "      <td>100.00</td>\n",
       "      <td>100.0</td>\n",
       "      <td>100.0</td>\n",
       "      <td>28.57</td>\n",
       "      <td>40.0</td>\n",
       "      <td>50.00</td>\n",
       "    </tr>\n",
       "    <tr>\n",
       "      <th>ibo7</th>\n",
       "      <td>100.00</td>\n",
       "      <td>100.0</td>\n",
       "      <td>100.0</td>\n",
       "      <td>28.57</td>\n",
       "      <td>40.0</td>\n",
       "      <td>66.67</td>\n",
       "    </tr>\n",
       "  </tbody>\n",
       "</table>\n",
       "</div>"
      ],
      "text/plain": [
       "          note                                  \n",
       "           max                  min             \n",
       "quizz      td1    td2    td3    td1   td2    td3\n",
       "groupe                                          \n",
       "ibo1    100.00  100.0  100.0  28.57  80.0  50.00\n",
       "ibo2    100.00  100.0  100.0  42.86  80.0  83.33\n",
       "ibo3     57.14  100.0  100.0  14.29  40.0  66.67\n",
       "ibo4    100.00  100.0  100.0   0.00  40.0  66.67\n",
       "ibo5     85.71  100.0  100.0   0.00  60.0  50.00\n",
       "ibo6    100.00  100.0  100.0  28.57  40.0  50.00\n",
       "ibo7    100.00  100.0  100.0  28.57  40.0  66.67"
      ]
     },
     "execution_count": 65,
     "metadata": {},
     "output_type": "execute_result"
    }
   ],
   "source": [
    "results = df_notes.pivot_table(index='groupe', columns='quizz', \n",
    "                     aggfunc={\"note\":['max', min]})\n",
    "results"
   ]
  },
  {
   "cell_type": "code",
   "execution_count": 66,
   "metadata": {},
   "outputs": [],
   "source": [
    "%matplotlib inline"
   ]
  },
  {
   "cell_type": "code",
   "execution_count": 67,
   "metadata": {},
   "outputs": [
    {
     "data": {
      "text/plain": [
       "<matplotlib.axes._subplots.AxesSubplot at 0x20e8a5745f8>"
      ]
     },
     "execution_count": 67,
     "metadata": {},
     "output_type": "execute_result"
    },
    {
     "data": {
      "image/png": "[encoded data removed]",
      "text/plain": [
       "<Figure size 1440x720 with 1 Axes>"
      ]
     },
     "metadata": {
      "needs_background": "light"
     },
     "output_type": "display_data"
    }
   ],
   "source": [
    "import matplotlib.pyplot as plt\n",
    "plt.rcParams['figure.figsize'] = (20, 10)\n",
    "results['note'].plot(kind='bar')"
   ]
  },
  {
   "cell_type": "code",
   "execution_count": 68,
   "metadata": {},
   "outputs": [
    {
     "data": {
      "text/plain": [
       "<matplotlib.axes._subplots.AxesSubplot at 0x20e8a887a20>"
      ]
     },
     "execution_count": 68,
     "metadata": {},
     "output_type": "execute_result"
    },
    {
     "data": {
      "image/png": "[encoded data removed]",
      "text/plain": [
       "<Figure size 1440x720 with 1 Axes>"
      ]
     },
     "metadata": {
      "needs_background": "light"
     },
     "output_type": "display_data"
    }
   ],
   "source": [
    "df_notes.groupby('groupe').appreciation.value_counts(dropna=False).sort_values().plot(kind=\"bar\")\n"
   ]
  },
  {
   "cell_type": "code",
   "execution_count": 69,
   "metadata": {},
   "outputs": [
    {
     "ename": "SyntaxError",
     "evalue": "invalid syntax (<ipython-input-69-fb71aa69dd3f>, line 2)",
     "output_type": "error",
     "traceback": [
      "\u001b[1;36m  File \u001b[1;32m\"<ipython-input-69-fb71aa69dd3f>\"\u001b[1;36m, line \u001b[1;32m2\u001b[0m\n\u001b[1;33m    .groupby(['quizz','groupe'])\u001b[0m\n\u001b[1;37m    ^\u001b[0m\n\u001b[1;31mSyntaxError\u001b[0m\u001b[1;31m:\u001b[0m invalid syntax\n"
     ]
    }
   ],
   "source": [
    "(df_notes.\n",
    "     .groupby(['quizz','groupe'])\n",
    "     ['appreciation']\n",
    "     .value_counts().sort_index()\n",
    "     .plot(kind=\"bar\"))"
   ]
  },
  {
   "cell_type": "code",
   "execution_count": 70,
   "metadata": {},
   "outputs": [
    {
     "ename": "SyntaxError",
     "evalue": "invalid syntax (<ipython-input-70-fb71aa69dd3f>, line 2)",
     "output_type": "error",
     "traceback": [
      "\u001b[1;36m  File \u001b[1;32m\"<ipython-input-70-fb71aa69dd3f>\"\u001b[1;36m, line \u001b[1;32m2\u001b[0m\n\u001b[1;33m    .groupby(['quizz','groupe'])\u001b[0m\n\u001b[1;37m    ^\u001b[0m\n\u001b[1;31mSyntaxError\u001b[0m\u001b[1;31m:\u001b[0m invalid syntax\n"
     ]
    }
   ],
   "source": [
    "(df_notes.\n",
    "     .groupby(['quizz','groupe'])\n",
    "     ['appreciation']\n",
    "     .value_counts().sort_index()\n",
    "     .plot(kind=\"bar\"))"
   ]
  },
  {
   "cell_type": "code",
   "execution_count": 71,
   "metadata": {},
   "outputs": [
    {
     "data": {
      "text/plain": [
       "<matplotlib.axes._subplots.AxesSubplot at 0x20e8a9d9630>"
      ]
     },
     "execution_count": 71,
     "metadata": {},
     "output_type": "execute_result"
    },
    {
     "data": {
      "image/png": "[encoded data removed]",
      "text/plain": [
       "<Figure size 1440x720 with 1 Axes>"
      ]
     },
     "metadata": {
      "needs_background": "light"
     },
     "output_type": "display_data"
    }
   ],
   "source": [
    "(df_notes.groupby(['quizz','groupe'])\n",
    "     ['appreciation']\n",
    "     .value_counts().sort_index()\n",
    "     .plot(kind=\"bar\"))"
   ]
  },
  {
   "cell_type": "code",
   "execution_count": 72,
   "metadata": {},
   "outputs": [
    {
     "data": {
      "text/plain": [
       "<matplotlib.axes._subplots.AxesSubplot at 0x20e8b55cc50>"
      ]
     },
     "execution_count": 72,
     "metadata": {},
     "output_type": "execute_result"
    },
    {
     "data": {
      "image/png": "[encoded data removed]",
      "text/plain": [
       "<Figure size 1440x720 with 1 Axes>"
      ]
     },
     "metadata": {
      "needs_background": "light"
     },
     "output_type": "display_data"
    }
   ],
   "source": [
    "(df_notes\n",
    "     .groupby(['quizz','groupe'])\n",
    "     ['appreciation']\n",
    "     .value_counts()\n",
    "     .unstack().plot(kind='bar', stacked=True))"
   ]
  },
  {
   "cell_type": "code",
   "execution_count": 73,
   "metadata": {},
   "outputs": [
    {
     "data": {
      "text/plain": [
       "<matplotlib.axes._subplots.AxesSubplot at 0x20e8b232550>"
      ]
     },
     "execution_count": 73,
     "metadata": {},
     "output_type": "execute_result"
    },
    {
     "data": {
      "image/png": "[encoded data removed]",
      "text/plain": [
       "<Figure size 1440x720 with 1 Axes>"
      ]
     },
     "metadata": {
      "needs_background": "light"
     },
     "output_type": "display_data"
    }
   ],
   "source": [
    "(df_notes\n",
    "     .pivot_table(index='quizz', \n",
    "                  columns='groupe', \n",
    "                  aggfunc={'appreciation':'value_counts'})\n",
    "     .plot(kind=\"bar\"))"
   ]
  },
  {
   "cell_type": "code",
   "execution_count": 74,
   "metadata": {},
   "outputs": [
    {
     "data": {
      "text/plain": [
       "<matplotlib.axes._subplots.AxesSubplot at 0x20e8b39a710>"
      ]
     },
     "execution_count": 74,
     "metadata": {},
     "output_type": "execute_result"
    },
    {
     "data": {
      "image/png": "[encoded data removed]",
      "text/plain": [
       "<Figure size 1440x720 with 1 Axes>"
      ]
     },
     "metadata": {
      "needs_background": "light"
     },
     "output_type": "display_data"
    }
   ],
   "source": [
    "df_notes.appreciation.value_counts(dropna=False).plot(kind=\"bar\")"
   ]
  },
  {
   "cell_type": "code",
   "execution_count": 75,
   "metadata": {},
   "outputs": [
    {
     "data": {
      "text/html": [
       "<div>\n",
       "<style scoped>\n",
       "    .dataframe tbody tr th:only-of-type {\n",
       "        vertical-align: middle;\n",
       "    }\n",
       "\n",
       "    .dataframe tbody tr th {\n",
       "        vertical-align: top;\n",
       "    }\n",
       "\n",
       "    .dataframe thead th {\n",
       "        text-align: right;\n",
       "    }\n",
       "</style>\n",
       "<table border=\"1\" class=\"dataframe\">\n",
       "  <thead>\n",
       "    <tr style=\"text-align: right;\">\n",
       "      <th></th>\n",
       "      <th>eleve</th>\n",
       "      <th>note</th>\n",
       "      <th>groupe</th>\n",
       "      <th>quizz</th>\n",
       "      <th>appreciation</th>\n",
       "    </tr>\n",
       "  </thead>\n",
       "  <tbody>\n",
       "    <tr>\n",
       "      <th>75</th>\n",
       "      <td>Eleve183</td>\n",
       "      <td>0.0</td>\n",
       "      <td>ibo4</td>\n",
       "      <td>td1</td>\n",
       "      <td>NaN</td>\n",
       "    </tr>\n",
       "    <tr>\n",
       "      <th>525</th>\n",
       "      <td>Eleve111</td>\n",
       "      <td>0.0</td>\n",
       "      <td>ibo5</td>\n",
       "      <td>td1</td>\n",
       "      <td>NaN</td>\n",
       "    </tr>\n",
       "  </tbody>\n",
       "</table>\n",
       "</div>"
      ],
      "text/plain": [
       "        eleve  note groupe quizz appreciation\n",
       "75   Eleve183   0.0   ibo4   td1          NaN\n",
       "525  Eleve111   0.0   ibo5   td1          NaN"
      ]
     },
     "execution_count": 75,
     "metadata": {},
     "output_type": "execute_result"
    }
   ],
   "source": [
    "df_notes[pd.isna(df_notes.appreciation)]"
   ]
  },
  {
   "cell_type": "code",
   "execution_count": null,
   "metadata": {},
   "outputs": [],
   "source": []
  }
 ],
 "metadata": {
  "kernelspec": {
   "display_name": "Python 3",
   "language": "python",
   "name": "python3"
  },
  "language_info": {
   "codemirror_mode": {
    "name": "ipython",
    "version": 3
   },
   "file_extension": ".py",
   "mimetype": "text/x-python",
   "name": "python",
   "nbconvert_exporter": "python",
   "pygments_lexer": "ipython3",
   "version": "3.7.1"
  }
 },
 "nbformat": 4,
 "nbformat_minor": 4
}
