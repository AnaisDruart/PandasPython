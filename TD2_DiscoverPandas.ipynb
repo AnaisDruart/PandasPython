{
 "cells": [
  {
   "cell_type": "code",
   "execution_count": 1,
   "metadata": {},
   "outputs": [
    {
     "name": "stderr",
     "output_type": "stream",
     "text": [
      "  % Total    % Received % Xferd  Average Speed   Time    Time     Time  Current\n",
      "                                 Dload  Upload   Total   Spent    Left  Speed\n",
      "\n",
      "  0     0    0     0    0     0      0      0 --:--:-- --:--:-- --:--:--     0\n",
      "100 21979  100 21979    0     0  21979      0  0:00:01 --:--:--  0:00:01  171k\n"
     ]
    }
   ],
   "source": [
    "!curl https://raw.githubusercontent.com/Luc-Bertin/TDs_ESILV/master/td3_discover_pandas/notes_eleves.csv -o \"notes.csv\"\n"
   ]
  },
  {
   "cell_type": "code",
   "execution_count": 2,
   "metadata": {},
   "outputs": [
    {
     "ename": "NameError",
     "evalue": "name 'pd' is not defined",
     "output_type": "error",
     "traceback": [
      "\u001b[1;31m---------------------------------------------------------------------------\u001b[0m",
      "\u001b[1;31mNameError\u001b[0m                                 Traceback (most recent call last)",
      "\u001b[1;32m<ipython-input-2-bc71875fcb67>\u001b[0m in \u001b[0;36m<module>\u001b[1;34m\u001b[0m\n\u001b[1;32m----> 1\u001b[1;33m \u001b[0mdf_notes\u001b[0m \u001b[1;33m=\u001b[0m \u001b[0mpd\u001b[0m\u001b[1;33m.\u001b[0m\u001b[0mread_csv\u001b[0m\u001b[1;33m(\u001b[0m\u001b[1;34m\"notes.csv\"\u001b[0m\u001b[1;33m,\u001b[0m \u001b[0mindex_col\u001b[0m\u001b[1;33m=\u001b[0m\u001b[1;36m0\u001b[0m\u001b[1;33m)\u001b[0m\u001b[1;33m\u001b[0m\u001b[1;33m\u001b[0m\u001b[0m\n\u001b[0m\u001b[0;32m      2\u001b[0m \u001b[1;31m# showing just the first n rows\u001b[0m\u001b[1;33m\u001b[0m\u001b[1;33m\u001b[0m\u001b[1;33m\u001b[0m\u001b[0m\n\u001b[0;32m      3\u001b[0m \u001b[0mdf_notes\u001b[0m\u001b[1;33m.\u001b[0m\u001b[0mhead\u001b[0m\u001b[1;33m(\u001b[0m\u001b[1;36m5\u001b[0m\u001b[1;33m)\u001b[0m\u001b[1;33m\u001b[0m\u001b[1;33m\u001b[0m\u001b[0m\n\u001b[0;32m      4\u001b[0m \u001b[1;31m# or the last n rows\u001b[0m\u001b[1;33m\u001b[0m\u001b[1;33m\u001b[0m\u001b[1;33m\u001b[0m\u001b[0m\n\u001b[0;32m      5\u001b[0m \u001b[0mdf_notes\u001b[0m\u001b[1;33m.\u001b[0m\u001b[0mtail\u001b[0m\u001b[1;33m(\u001b[0m\u001b[1;36m5\u001b[0m\u001b[1;33m)\u001b[0m\u001b[1;33m\u001b[0m\u001b[1;33m\u001b[0m\u001b[0m\n",
      "\u001b[1;31mNameError\u001b[0m: name 'pd' is not defined"
     ]
    }
   ],
   "source": [
    "df_notes = pd.read_csv(\"notes.csv\", index_col=0)\n",
    "# showing just the first n rows\n",
    "df_notes.head(5)\n",
    "# or the last n rows\n",
    "df_notes.tail(5)\n",
    "    "
   ]
  },
  {
   "cell_type": "code",
   "execution_count": 3,
   "metadata": {},
   "outputs": [],
   "source": [
    "import pandas as pd\n"
   ]
  },
  {
   "cell_type": "code",
   "execution_count": 6,
   "metadata": {},
   "outputs": [
    {
     "data": {
      "text/html": [
       "<div>\n",
       "<style scoped>\n",
       "    .dataframe tbody tr th:only-of-type {\n",
       "        vertical-align: middle;\n",
       "    }\n",
       "\n",
       "    .dataframe tbody tr th {\n",
       "        vertical-align: top;\n",
       "    }\n",
       "\n",
       "    .dataframe thead th {\n",
       "        text-align: right;\n",
       "    }\n",
       "</style>\n",
       "<table border=\"1\" class=\"dataframe\">\n",
       "  <thead>\n",
       "    <tr style=\"text-align: right;\">\n",
       "      <th></th>\n",
       "      <th>eleve</th>\n",
       "      <th>note</th>\n",
       "      <th>groupe</th>\n",
       "      <th>quizz</th>\n",
       "    </tr>\n",
       "  </thead>\n",
       "  <tbody>\n",
       "    <tr>\n",
       "      <th>0</th>\n",
       "      <td>eleve0</td>\n",
       "      <td>71,43 %</td>\n",
       "      <td>Unknown</td>\n",
       "      <td>td1</td>\n",
       "    </tr>\n",
       "    <tr>\n",
       "      <th>1</th>\n",
       "      <td>eleve1</td>\n",
       "      <td>100 %</td>\n",
       "      <td>Unknown</td>\n",
       "      <td>td1</td>\n",
       "    </tr>\n",
       "    <tr>\n",
       "      <th>2</th>\n",
       "      <td>eleve4</td>\n",
       "      <td>71,43 %</td>\n",
       "      <td>Unknown</td>\n",
       "      <td>td1</td>\n",
       "    </tr>\n",
       "    <tr>\n",
       "      <th>3</th>\n",
       "      <td>eleve6</td>\n",
       "      <td>42,86 %</td>\n",
       "      <td>Unknown</td>\n",
       "      <td>td1</td>\n",
       "    </tr>\n",
       "    <tr>\n",
       "      <th>4</th>\n",
       "      <td>eleve8</td>\n",
       "      <td>57,14 %</td>\n",
       "      <td>Unknown</td>\n",
       "      <td>td1</td>\n",
       "    </tr>\n",
       "  </tbody>\n",
       "</table>\n",
       "</div>"
      ],
      "text/plain": [
       "    eleve     note   groupe quizz\n",
       "0  eleve0  71,43 %  Unknown   td1\n",
       "1  eleve1    100 %  Unknown   td1\n",
       "2  eleve4  71,43 %  Unknown   td1\n",
       "3  eleve6  42,86 %  Unknown   td1\n",
       "4  eleve8  57,14 %  Unknown   td1"
      ]
     },
     "execution_count": 6,
     "metadata": {},
     "output_type": "execute_result"
    }
   ],
   "source": [
    "df_notes = pd.read_csv(\"notes.csv\", index_col=0)\n",
    "# showing just the first n rows\n",
    "df_notes.head(5)\n"
   ]
  },
  {
   "cell_type": "code",
   "execution_count": 7,
   "metadata": {},
   "outputs": [
    {
     "data": {
      "text/html": [
       "<div>\n",
       "<style scoped>\n",
       "    .dataframe tbody tr th:only-of-type {\n",
       "        vertical-align: middle;\n",
       "    }\n",
       "\n",
       "    .dataframe tbody tr th {\n",
       "        vertical-align: top;\n",
       "    }\n",
       "\n",
       "    .dataframe thead th {\n",
       "        text-align: right;\n",
       "    }\n",
       "</style>\n",
       "<table border=\"1\" class=\"dataframe\">\n",
       "  <thead>\n",
       "    <tr style=\"text-align: right;\">\n",
       "      <th></th>\n",
       "      <th>eleve</th>\n",
       "      <th>note</th>\n",
       "      <th>groupe</th>\n",
       "      <th>quizz</th>\n",
       "    </tr>\n",
       "  </thead>\n",
       "  <tbody>\n",
       "    <tr>\n",
       "      <th>741</th>\n",
       "      <td>eleve174</td>\n",
       "      <td>100 %</td>\n",
       "      <td>ibo5</td>\n",
       "      <td>td3</td>\n",
       "    </tr>\n",
       "    <tr>\n",
       "      <th>742</th>\n",
       "      <td>eleve166</td>\n",
       "      <td>66,67 %</td>\n",
       "      <td>ibo5</td>\n",
       "      <td>td3</td>\n",
       "    </tr>\n",
       "    <tr>\n",
       "      <th>743</th>\n",
       "      <td>eleve176</td>\n",
       "      <td>83,33 %</td>\n",
       "      <td>ibo5</td>\n",
       "      <td>td3</td>\n",
       "    </tr>\n",
       "    <tr>\n",
       "      <th>744</th>\n",
       "      <td>eleve186</td>\n",
       "      <td>100 %</td>\n",
       "      <td>ibo5</td>\n",
       "      <td>td3</td>\n",
       "    </tr>\n",
       "    <tr>\n",
       "      <th>745</th>\n",
       "      <td>eleve196</td>\n",
       "      <td>66,67 %</td>\n",
       "      <td>ibo5</td>\n",
       "      <td>td3</td>\n",
       "    </tr>\n",
       "  </tbody>\n",
       "</table>\n",
       "</div>"
      ],
      "text/plain": [
       "        eleve     note groupe quizz\n",
       "741  eleve174    100 %   ibo5   td3\n",
       "742  eleve166  66,67 %   ibo5   td3\n",
       "743  eleve176  83,33 %   ibo5   td3\n",
       "744  eleve186    100 %   ibo5   td3\n",
       "745  eleve196  66,67 %   ibo5   td3"
      ]
     },
     "execution_count": 7,
     "metadata": {},
     "output_type": "execute_result"
    }
   ],
   "source": [
    "# or the last n rows\n",
    "df_notes.tail(5)"
   ]
  },
  {
   "cell_type": "code",
   "execution_count": 8,
   "metadata": {},
   "outputs": [],
   "source": [
    "def function(val):\n",
    "    \"\"\"A fonction to be applied on each element of a pandas DataFrame column / Series \"\"\"\n",
    "    # we need to return a value for each element computation\n",
    "    return val.upper()\n"
   ]
  },
  {
   "cell_type": "code",
   "execution_count": 9,
   "metadata": {},
   "outputs": [
    {
     "data": {
      "text/plain": [
       "0        ELEVE0\n",
       "1        ELEVE1\n",
       "2        ELEVE4\n",
       "3        ELEVE6\n",
       "4        ELEVE8\n",
       "         ...   \n",
       "741    ELEVE174\n",
       "742    ELEVE166\n",
       "743    ELEVE176\n",
       "744    ELEVE186\n",
       "745    ELEVE196\n",
       "Name: eleve, Length: 746, dtype: object"
      ]
     },
     "execution_count": 9,
     "metadata": {},
     "output_type": "execute_result"
    }
   ],
   "source": [
    "df_notes.eleve.apply(function) # the function applies on each value in the column"
   ]
  },
  {
   "cell_type": "code",
   "execution_count": 10,
   "metadata": {},
   "outputs": [
    {
     "data": {
      "text/html": [
       "<div>\n",
       "<style scoped>\n",
       "    .dataframe tbody tr th:only-of-type {\n",
       "        vertical-align: middle;\n",
       "    }\n",
       "\n",
       "    .dataframe tbody tr th {\n",
       "        vertical-align: top;\n",
       "    }\n",
       "\n",
       "    .dataframe thead th {\n",
       "        text-align: right;\n",
       "    }\n",
       "</style>\n",
       "<table border=\"1\" class=\"dataframe\">\n",
       "  <thead>\n",
       "    <tr style=\"text-align: right;\">\n",
       "      <th></th>\n",
       "      <th>eleve</th>\n",
       "      <th>note</th>\n",
       "      <th>groupe</th>\n",
       "      <th>quizz</th>\n",
       "    </tr>\n",
       "  </thead>\n",
       "  <tbody>\n",
       "    <tr>\n",
       "      <th>0</th>\n",
       "      <td>eleve0</td>\n",
       "      <td>71,43 %</td>\n",
       "      <td>Unknown</td>\n",
       "      <td>td1</td>\n",
       "    </tr>\n",
       "    <tr>\n",
       "      <th>1</th>\n",
       "      <td>eleve1</td>\n",
       "      <td>100 %</td>\n",
       "      <td>Unknown</td>\n",
       "      <td>td1</td>\n",
       "    </tr>\n",
       "    <tr>\n",
       "      <th>2</th>\n",
       "      <td>eleve4</td>\n",
       "      <td>71,43 %</td>\n",
       "      <td>Unknown</td>\n",
       "      <td>td1</td>\n",
       "    </tr>\n",
       "    <tr>\n",
       "      <th>3</th>\n",
       "      <td>eleve6</td>\n",
       "      <td>42,86 %</td>\n",
       "      <td>Unknown</td>\n",
       "      <td>td1</td>\n",
       "    </tr>\n",
       "    <tr>\n",
       "      <th>4</th>\n",
       "      <td>eleve8</td>\n",
       "      <td>57,14 %</td>\n",
       "      <td>Unknown</td>\n",
       "      <td>td1</td>\n",
       "    </tr>\n",
       "    <tr>\n",
       "      <th>...</th>\n",
       "      <td>...</td>\n",
       "      <td>...</td>\n",
       "      <td>...</td>\n",
       "      <td>...</td>\n",
       "    </tr>\n",
       "    <tr>\n",
       "      <th>741</th>\n",
       "      <td>eleve174</td>\n",
       "      <td>100 %</td>\n",
       "      <td>ibo5</td>\n",
       "      <td>td3</td>\n",
       "    </tr>\n",
       "    <tr>\n",
       "      <th>742</th>\n",
       "      <td>eleve166</td>\n",
       "      <td>66,67 %</td>\n",
       "      <td>ibo5</td>\n",
       "      <td>td3</td>\n",
       "    </tr>\n",
       "    <tr>\n",
       "      <th>743</th>\n",
       "      <td>eleve176</td>\n",
       "      <td>83,33 %</td>\n",
       "      <td>ibo5</td>\n",
       "      <td>td3</td>\n",
       "    </tr>\n",
       "    <tr>\n",
       "      <th>744</th>\n",
       "      <td>eleve186</td>\n",
       "      <td>100 %</td>\n",
       "      <td>ibo5</td>\n",
       "      <td>td3</td>\n",
       "    </tr>\n",
       "    <tr>\n",
       "      <th>745</th>\n",
       "      <td>eleve196</td>\n",
       "      <td>66,67 %</td>\n",
       "      <td>ibo5</td>\n",
       "      <td>td3</td>\n",
       "    </tr>\n",
       "  </tbody>\n",
       "</table>\n",
       "<p>746 rows × 4 columns</p>\n",
       "</div>"
      ],
      "text/plain": [
       "        eleve     note   groupe quizz\n",
       "0      eleve0  71,43 %  Unknown   td1\n",
       "1      eleve1    100 %  Unknown   td1\n",
       "2      eleve4  71,43 %  Unknown   td1\n",
       "3      eleve6  42,86 %  Unknown   td1\n",
       "4      eleve8  57,14 %  Unknown   td1\n",
       "..        ...      ...      ...   ...\n",
       "741  eleve174    100 %     ibo5   td3\n",
       "742  eleve166  66,67 %     ibo5   td3\n",
       "743  eleve176  83,33 %     ibo5   td3\n",
       "744  eleve186    100 %     ibo5   td3\n",
       "745  eleve196  66,67 %     ibo5   td3\n",
       "\n",
       "[746 rows x 4 columns]"
      ]
     },
     "execution_count": 10,
     "metadata": {},
     "output_type": "execute_result"
    }
   ],
   "source": [
    "df_notes"
   ]
  },
  {
   "cell_type": "code",
   "execution_count": null,
   "metadata": {},
   "outputs": [],
   "source": []
  }
 ],
 "metadata": {
  "kernelspec": {
   "display_name": "Python 3",
   "language": "python",
   "name": "python3"
  },
  "language_info": {
   "codemirror_mode": {
    "name": "ipython",
    "version": 3
   },
   "file_extension": ".py",
   "mimetype": "text/x-python",
   "name": "python",
   "nbconvert_exporter": "python",
   "pygments_lexer": "ipython3",
   "version": "3.7.1"
  }
 },
 "nbformat": 4,
 "nbformat_minor": 4
}
